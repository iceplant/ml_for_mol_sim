{
 "cells": [
  {
   "cell_type": "code",
   "execution_count": 6,
   "id": "c555c6d3",
   "metadata": {},
   "outputs": [],
   "source": [
    "import matplotlib.pyplot as plt\n",
    "from numpy.random import default_rng\n",
    "import numpy as np\n",
    "import torch\n",
    "import sys\n",
    "import importlib\n",
    "\n",
    "sys.path.append(\"../hw10\")\n",
    "\n",
    "from utils import split_data_gnn, train, MLP, get_batch_dimensions, visualize_graph\n",
    "import torch.nn.functional as F\n",
    "from torch import nn\n",
    "from torch.utils.data import  DataLoader\n",
    "from IPython.display import clear_output\n",
    "import numpy as np\n",
    "import mdtraj as md\n",
    "from schnet import RadiusInteractionGraph, SchNet"
   ]
  },
  {
   "cell_type": "code",
   "execution_count": 7,
   "id": "045d430f",
   "metadata": {},
   "outputs": [
    {
     "name": "stdout",
     "output_type": "stream",
     "text": [
      "The autoreload extension is already loaded. To reload it, use:\n",
      "  %reload_ext autoreload\n"
     ]
    }
   ],
   "source": [
    "%load_ext autoreload\n",
    "%autoreload 2"
   ]
  },
  {
   "cell_type": "code",
   "execution_count": 8,
   "id": "8024d015",
   "metadata": {},
   "outputs": [
    {
     "data": {
      "text/plain": [
       "'cpu'"
      ]
     },
     "execution_count": 8,
     "metadata": {},
     "output_type": "execute_result"
    }
   ],
   "source": [
    "# check if a GPU is available\n",
    "DEVICE = 'cuda' if torch.cuda.is_available() else 'cpu'\n",
    "DEVICE"
   ]
  },
  {
   "cell_type": "markdown",
   "id": "28f7d2bd",
   "metadata": {},
   "source": [
    "### Generate some fake data"
   ]
  },
  {
   "cell_type": "code",
   "execution_count": 9,
   "id": "d58b3a3f",
   "metadata": {},
   "outputs": [],
   "source": [
    "d = 1.1\n",
    "\n",
    "# 3d cluster\n",
    "clus3d = torch.tensor(\n",
    "    [\n",
    "        [0.0, 0.0, 0.0],\n",
    "        [d / np.sqrt(2.), d / np.sqrt(2), 0.0],\n",
    "        [-d / np.sqrt(2), d / np.sqrt(2), 0.0],\n",
    "        [d / np.sqrt(2), -d / np.sqrt(2), 0.0],\n",
    "        [-d / np.sqrt(2), -d / np.sqrt(2), 0.0],\n",
    "        [0, 0, d],\n",
    "        [0, 0, -d],\n",
    "    ],dtype=torch.float32\n",
    ")\n"
   ]
  },
  {
   "cell_type": "code",
   "execution_count": 10,
   "id": "8993b919",
   "metadata": {},
   "outputs": [],
   "source": [
    "n_particles = clus3d.shape[0]"
   ]
  },
  {
   "cell_type": "code",
   "execution_count": 11,
   "id": "fb0ea367",
   "metadata": {},
   "outputs": [
    {
     "data": {
      "text/plain": [
       "(torch.Size([10, 7, 3]), torch.Size([10, 1]))"
      ]
     },
     "execution_count": 11,
     "metadata": {},
     "output_type": "execute_result"
    }
   ],
   "source": [
    "n_samples = 10\n",
    "\n",
    "positions = clus3d + torch.rand(size=(n_samples, n_particles,3))\n",
    "potential_energies = torch.rand(size=(n_samples,1))\n",
    "n_samples = potential_energies.shape[0]\n",
    "positions.shape, potential_energies.shape"
   ]
  },
  {
   "cell_type": "markdown",
   "id": "ff47d8a0",
   "metadata": {},
   "source": [
    "We store the data in a Dataset. For now, we only need one dataset to make some tests. We assign atomic number of 1 to all particles"
   ]
  },
  {
   "cell_type": "code",
   "execution_count": 12,
   "id": "2976dda8",
   "metadata": {},
   "outputs": [],
   "source": [
    "z = torch.ones((n_particles* n_samples,1))"
   ]
  },
  {
   "cell_type": "markdown",
   "id": "fcaa3514",
   "metadata": {},
   "source": [
    "We first make a histogram of all pairwise distances to get a feeling how our data is distributed. To do that, we use torch.vmap: It applies the mapped function over the first dimension."
   ]
  },
  {
   "cell_type": "code",
   "execution_count": 13,
   "id": "4292df70",
   "metadata": {},
   "outputs": [
    {
     "name": "stderr",
     "output_type": "stream",
     "text": [
      "/Users/rockykamenrubio/Documents/freie_universitat/molecular_simulations/molecular_simulations_env/lib/python3.12/site-packages/torch/_functorch/vmap.py:391: UserWarning: There is a performance drop because we have not yet implemented the batching rule for aten::pdist. Please file us an issue on GitHub so that we can prioritize its implementation. (Triggered internally at /Users/runner/work/pytorch/pytorch/pytorch/aten/src/ATen/functorch/BatchedFallback.cpp:85.)\n",
      "  batched_outputs = func(*batched_inputs, **kwargs)\n"
     ]
    },
    {
     "data": {
      "text/plain": [
       "torch.Size([10, 21])"
      ]
     },
     "execution_count": 13,
     "metadata": {},
     "output_type": "execute_result"
    }
   ],
   "source": [
    "# pairwise distances for all samples\n",
    "distances = torch.vmap(F.pdist)(positions)\n",
    "distances.shape"
   ]
  },
  {
   "cell_type": "code",
   "execution_count": 14,
   "id": "3ff23712",
   "metadata": {},
   "outputs": [
    {
     "data": {
      "text/plain": [
       "(array([ 5.,  5., 11., 16., 24.,  9., 11., 12., 18., 20., 21., 21., 12.,\n",
       "         5.,  8.,  3.,  5.,  2.,  0.,  2.]),\n",
       " array([0.56946909, 0.6941905 , 0.81891185, 0.9436332 , 1.06835461,\n",
       "        1.19307601, 1.31779742, 1.44251871, 1.56724012, 1.69196153,\n",
       "        1.81668282, 1.94140422, 2.06612563, 2.19084692, 2.31556845,\n",
       "        2.44028974, 2.56501102, 2.68973255, 2.81445384, 2.93917537,\n",
       "        3.06389666]),\n",
       " <BarContainer object of 20 artists>)"
      ]
     },
     "execution_count": 14,
     "metadata": {},
     "output_type": "execute_result"
    },
    {
     "data": {
      "image/png": "[encoded data removed]",
      "text/plain": [
       "<Figure size 640x480 with 1 Axes>"
      ]
     },
     "metadata": {},
     "output_type": "display_data"
    }
   ],
   "source": [
    "plt.hist(distances.flatten(),bins=20)"
   ]
  },
  {
   "cell_type": "markdown",
   "id": "156617b2",
   "metadata": {},
   "source": [
    "### Visualizing the interaction graph\n",
    "We can now plot the interaction graph, which is the central object of a GNN. To do so, we use functions from pytorch_geometric. \n",
    "\n",
    "<span style=\"color:red\">Caution:</span>\n",
    "\n",
    "pytorch_geometric expects the input positions to be of shape (n_samples * n_particles, 3), rather than (n_samples, n_particles, 3). In practice, we can easily achieve that using reshape(-1,3), but it is important to keep that in mind.\\\n",
    "\n",
    "The batch_dimensions tell the code, which atom belongs to which sample of the array with shape (n_samples * n_particles, 3). For example: If we work with the first 14 entries, i.e., 2 samples from the MD run, the first seven positions correspond to one samples, and the second one to a different sample."
   ]
  },
  {
   "cell_type": "code",
   "execution_count": 15,
   "id": "e5b55fe7",
   "metadata": {},
   "outputs": [
    {
     "data": {
      "text/plain": [
       "tensor([0, 0, 0, 0, 0, 0, 0, 1, 1, 1, 1, 1, 1, 1, 2, 2, 2, 2, 2, 2, 2])"
      ]
     },
     "execution_count": 15,
     "metadata": {},
     "output_type": "execute_result"
    }
   ],
   "source": [
    "batch_dimensions = get_batch_dimensions(batch_size=3, n_particles=7)\n",
    "batch_dimensions"
   ]
  },
  {
   "cell_type": "code",
   "execution_count": 16,
   "id": "2031a5fe",
   "metadata": {},
   "outputs": [],
   "source": [
    "# select one frame from the MD simulation\n",
    "id_plot = 5\n",
    "\n",
    "# define a cutoff for the interaction\n",
    "r_cut = 1.5"
   ]
  },
  {
   "cell_type": "code",
   "execution_count": 17,
   "id": "a66c497d",
   "metadata": {},
   "outputs": [
    {
     "ename": "ImportError",
     "evalue": "'radius_graph' requires 'torch-cluster'",
     "output_type": "error",
     "traceback": [
      "\u001b[0;31m---------------------------------------------------------------------------\u001b[0m",
      "\u001b[0;31mImportError\u001b[0m                               Traceback (most recent call last)",
      "Cell \u001b[0;32mIn[17], line 4\u001b[0m\n\u001b[1;32m      1\u001b[0m interaction_graph \u001b[38;5;241m=\u001b[39m RadiusInteractionGraph(r_cut)\n\u001b[1;32m      2\u001b[0m batch_dimensions \u001b[38;5;241m=\u001b[39m get_batch_dimensions(batch_size\u001b[38;5;241m=\u001b[39m\u001b[38;5;241m1\u001b[39m, n_particles\u001b[38;5;241m=\u001b[39m\u001b[38;5;241m7\u001b[39m)\n\u001b[0;32m----> 4\u001b[0m edges, distances \u001b[38;5;241m=\u001b[39m \u001b[43minteraction_graph\u001b[49m\u001b[43m(\u001b[49m\n\u001b[1;32m      5\u001b[0m \u001b[43m    \u001b[49m\u001b[43mpositions\u001b[49m\u001b[43m[\u001b[49m\u001b[43mid_plot\u001b[49m\u001b[43m]\u001b[49m\u001b[38;5;241;43m.\u001b[39;49m\u001b[43mreshape\u001b[49m\u001b[43m(\u001b[49m\u001b[38;5;241;43m-\u001b[39;49m\u001b[38;5;241;43m1\u001b[39;49m\u001b[43m,\u001b[49m\u001b[43m \u001b[49m\u001b[38;5;241;43m3\u001b[39;49m\u001b[43m)\u001b[49m\u001b[43m,\u001b[49m\u001b[43m \u001b[49m\u001b[43mbatch_dimensions\u001b[49m\n\u001b[1;32m      6\u001b[0m \u001b[43m)\u001b[49m\n\u001b[1;32m      8\u001b[0m edges\u001b[38;5;241m.\u001b[39mshape, distances\u001b[38;5;241m.\u001b[39mshape\n",
      "File \u001b[0;32m~/Documents/freie_universitat/molecular_simulations/molecular_simulations_env/lib/python3.12/site-packages/torch/nn/modules/module.py:1511\u001b[0m, in \u001b[0;36mModule._wrapped_call_impl\u001b[0;34m(self, *args, **kwargs)\u001b[0m\n\u001b[1;32m   1509\u001b[0m     \u001b[38;5;28;01mreturn\u001b[39;00m \u001b[38;5;28mself\u001b[39m\u001b[38;5;241m.\u001b[39m_compiled_call_impl(\u001b[38;5;241m*\u001b[39margs, \u001b[38;5;241m*\u001b[39m\u001b[38;5;241m*\u001b[39mkwargs)  \u001b[38;5;66;03m# type: ignore[misc]\u001b[39;00m\n\u001b[1;32m   1510\u001b[0m \u001b[38;5;28;01melse\u001b[39;00m:\n\u001b[0;32m-> 1511\u001b[0m     \u001b[38;5;28;01mreturn\u001b[39;00m \u001b[38;5;28;43mself\u001b[39;49m\u001b[38;5;241;43m.\u001b[39;49m\u001b[43m_call_impl\u001b[49m\u001b[43m(\u001b[49m\u001b[38;5;241;43m*\u001b[39;49m\u001b[43margs\u001b[49m\u001b[43m,\u001b[49m\u001b[43m \u001b[49m\u001b[38;5;241;43m*\u001b[39;49m\u001b[38;5;241;43m*\u001b[39;49m\u001b[43mkwargs\u001b[49m\u001b[43m)\u001b[49m\n",
      "File \u001b[0;32m~/Documents/freie_universitat/molecular_simulations/molecular_simulations_env/lib/python3.12/site-packages/torch/nn/modules/module.py:1520\u001b[0m, in \u001b[0;36mModule._call_impl\u001b[0;34m(self, *args, **kwargs)\u001b[0m\n\u001b[1;32m   1515\u001b[0m \u001b[38;5;66;03m# If we don't have any hooks, we want to skip the rest of the logic in\u001b[39;00m\n\u001b[1;32m   1516\u001b[0m \u001b[38;5;66;03m# this function, and just call forward.\u001b[39;00m\n\u001b[1;32m   1517\u001b[0m \u001b[38;5;28;01mif\u001b[39;00m \u001b[38;5;129;01mnot\u001b[39;00m (\u001b[38;5;28mself\u001b[39m\u001b[38;5;241m.\u001b[39m_backward_hooks \u001b[38;5;129;01mor\u001b[39;00m \u001b[38;5;28mself\u001b[39m\u001b[38;5;241m.\u001b[39m_backward_pre_hooks \u001b[38;5;129;01mor\u001b[39;00m \u001b[38;5;28mself\u001b[39m\u001b[38;5;241m.\u001b[39m_forward_hooks \u001b[38;5;129;01mor\u001b[39;00m \u001b[38;5;28mself\u001b[39m\u001b[38;5;241m.\u001b[39m_forward_pre_hooks\n\u001b[1;32m   1518\u001b[0m         \u001b[38;5;129;01mor\u001b[39;00m _global_backward_pre_hooks \u001b[38;5;129;01mor\u001b[39;00m _global_backward_hooks\n\u001b[1;32m   1519\u001b[0m         \u001b[38;5;129;01mor\u001b[39;00m _global_forward_hooks \u001b[38;5;129;01mor\u001b[39;00m _global_forward_pre_hooks):\n\u001b[0;32m-> 1520\u001b[0m     \u001b[38;5;28;01mreturn\u001b[39;00m \u001b[43mforward_call\u001b[49m\u001b[43m(\u001b[49m\u001b[38;5;241;43m*\u001b[39;49m\u001b[43margs\u001b[49m\u001b[43m,\u001b[49m\u001b[43m \u001b[49m\u001b[38;5;241;43m*\u001b[39;49m\u001b[38;5;241;43m*\u001b[39;49m\u001b[43mkwargs\u001b[49m\u001b[43m)\u001b[49m\n\u001b[1;32m   1522\u001b[0m \u001b[38;5;28;01mtry\u001b[39;00m:\n\u001b[1;32m   1523\u001b[0m     result \u001b[38;5;241m=\u001b[39m \u001b[38;5;28;01mNone\u001b[39;00m\n",
      "File \u001b[0;32m~/Documents/freie_universitat/molecular_simulations/hw10/schnet_utils.py:46\u001b[0m, in \u001b[0;36mRadiusInteractionGraph.forward\u001b[0;34m(self, pos, batch)\u001b[0m\n\u001b[1;32m     36\u001b[0m \u001b[38;5;28;01mdef\u001b[39;00m \u001b[38;5;21mforward\u001b[39m(\u001b[38;5;28mself\u001b[39m, pos: Tensor, batch: Tensor) \u001b[38;5;241m-\u001b[39m\u001b[38;5;241m>\u001b[39m Tuple[Tensor, Tensor]:\n\u001b[1;32m     37\u001b[0m \u001b[38;5;250m    \u001b[39m\u001b[38;5;124mr\u001b[39m\u001b[38;5;124;03m\"\"\"Forward pass.\u001b[39;00m\n\u001b[1;32m     38\u001b[0m \n\u001b[1;32m     39\u001b[0m \u001b[38;5;124;03m    Args:\u001b[39;00m\n\u001b[0;32m   (...)\u001b[0m\n\u001b[1;32m     44\u001b[0m \u001b[38;5;124;03m    :rtype: (:class:`LongTensor`, :class:`Tensor`)\u001b[39;00m\n\u001b[1;32m     45\u001b[0m \u001b[38;5;124;03m    \"\"\"\u001b[39;00m\n\u001b[0;32m---> 46\u001b[0m     edge_index \u001b[38;5;241m=\u001b[39m \u001b[43mradius_graph\u001b[49m\u001b[43m(\u001b[49m\n\u001b[1;32m     47\u001b[0m \u001b[43m        \u001b[49m\u001b[43mpos\u001b[49m\u001b[43m,\u001b[49m\u001b[43m \u001b[49m\u001b[43mr\u001b[49m\u001b[38;5;241;43m=\u001b[39;49m\u001b[38;5;28;43mself\u001b[39;49m\u001b[38;5;241;43m.\u001b[39;49m\u001b[43mcutoff\u001b[49m\u001b[43m,\u001b[49m\u001b[43m \u001b[49m\u001b[43mbatch\u001b[49m\u001b[38;5;241;43m=\u001b[39;49m\u001b[43mbatch\u001b[49m\u001b[43m,\u001b[49m\u001b[43m \u001b[49m\u001b[43mmax_num_neighbors\u001b[49m\u001b[38;5;241;43m=\u001b[39;49m\u001b[38;5;28;43mself\u001b[39;49m\u001b[38;5;241;43m.\u001b[39;49m\u001b[43mmax_num_neighbors\u001b[49m\n\u001b[1;32m     48\u001b[0m \u001b[43m    \u001b[49m\u001b[43m)\u001b[49m\n\u001b[1;32m     49\u001b[0m     row, col \u001b[38;5;241m=\u001b[39m edge_index\n\u001b[1;32m     50\u001b[0m     edge_weight \u001b[38;5;241m=\u001b[39m (pos[row] \u001b[38;5;241m-\u001b[39m pos[col])\u001b[38;5;241m.\u001b[39mnorm(dim\u001b[38;5;241m=\u001b[39m\u001b[38;5;241m-\u001b[39m\u001b[38;5;241m1\u001b[39m)\n",
      "File \u001b[0;32m~/Documents/freie_universitat/molecular_simulations/molecular_simulations_env/lib/python3.12/site-packages/torch_geometric/nn/pool/__init__.py:293\u001b[0m, in \u001b[0;36mradius_graph\u001b[0;34m(x, r, batch, loop, max_num_neighbors, flow, num_workers, batch_size)\u001b[0m\n\u001b[1;32m    290\u001b[0m     batch \u001b[38;5;241m=\u001b[39m batch\u001b[38;5;241m.\u001b[39mto(x\u001b[38;5;241m.\u001b[39mdevice)\n\u001b[1;32m    292\u001b[0m \u001b[38;5;28;01mif\u001b[39;00m \u001b[38;5;129;01mnot\u001b[39;00m torch_geometric\u001b[38;5;241m.\u001b[39mtyping\u001b[38;5;241m.\u001b[39mWITH_TORCH_CLUSTER_BATCH_SIZE:\n\u001b[0;32m--> 293\u001b[0m     \u001b[38;5;28;01mreturn\u001b[39;00m \u001b[43mtorch_cluster\u001b[49m\u001b[38;5;241;43m.\u001b[39;49m\u001b[43mradius_graph\u001b[49m(x, r, batch, loop, max_num_neighbors,\n\u001b[1;32m    294\u001b[0m                                       flow, num_workers)\n\u001b[1;32m    295\u001b[0m \u001b[38;5;28;01mreturn\u001b[39;00m torch_cluster\u001b[38;5;241m.\u001b[39mradius_graph(x, r, batch, loop, max_num_neighbors,\n\u001b[1;32m    296\u001b[0m                                   flow, num_workers, batch_size)\n",
      "File \u001b[0;32m~/Documents/freie_universitat/molecular_simulations/molecular_simulations_env/lib/python3.12/site-packages/torch_geometric/typing.py:104\u001b[0m, in \u001b[0;36mTorchCluster.__getattr__\u001b[0;34m(self, key)\u001b[0m\n\u001b[1;32m    103\u001b[0m \u001b[38;5;28;01mdef\u001b[39;00m \u001b[38;5;21m__getattr__\u001b[39m(\u001b[38;5;28mself\u001b[39m, key: \u001b[38;5;28mstr\u001b[39m) \u001b[38;5;241m-\u001b[39m\u001b[38;5;241m>\u001b[39m Any:\n\u001b[0;32m--> 104\u001b[0m     \u001b[38;5;28;01mraise\u001b[39;00m \u001b[38;5;167;01mImportError\u001b[39;00m(\u001b[38;5;124mf\u001b[39m\u001b[38;5;124m\"\u001b[39m\u001b[38;5;124m'\u001b[39m\u001b[38;5;132;01m{\u001b[39;00mkey\u001b[38;5;132;01m}\u001b[39;00m\u001b[38;5;124m'\u001b[39m\u001b[38;5;124m requires \u001b[39m\u001b[38;5;124m'\u001b[39m\u001b[38;5;124mtorch-cluster\u001b[39m\u001b[38;5;124m'\u001b[39m\u001b[38;5;124m\"\u001b[39m)\n",
      "\u001b[0;31mImportError\u001b[0m: 'radius_graph' requires 'torch-cluster'"
     ]
    }
   ],
   "source": [
    "interaction_graph = RadiusInteractionGraph(r_cut)\n",
    "batch_dimensions = get_batch_dimensions(batch_size=1, n_particles=7)\n",
    "\n",
    "edges, distances = interaction_graph(\n",
    "    positions[id_plot].reshape(-1, 3), batch_dimensions\n",
    ")\n",
    "\n",
    "edges.shape, distances.shape"
   ]
  },
  {
   "cell_type": "code",
   "execution_count": null,
   "id": "6bf12f38",
   "metadata": {},
   "outputs": [],
   "source": []
  },
  {
   "cell_type": "code",
   "execution_count": 18,
   "id": "bd0a33f7",
   "metadata": {},
   "outputs": [
    {
     "name": "stdout",
     "output_type": "stream",
     "text": [
      "2.2.2\n"
     ]
    }
   ],
   "source": [
    "print(torch.__version__)"
   ]
  },
  {
   "cell_type": "code",
   "execution_count": null,
   "id": "2048518e",
   "metadata": {},
   "outputs": [],
   "source": [
    "visualize_graph(positions[id_plot].reshape(-1,3),edges,dim_1=0, dim_2=1)"
   ]
  },
  {
   "cell_type": "markdown",
   "id": "d07c366e",
   "metadata": {},
   "source": [
    "### SchNet"
   ]
  },
  {
   "cell_type": "code",
   "execution_count": null,
   "id": "608d2d91",
   "metadata": {},
   "outputs": [],
   "source": [
    "# initialize a SchNet model with default values\n",
    "model = SchNet()"
   ]
  },
  {
   "cell_type": "code",
   "execution_count": null,
   "id": "6572be30",
   "metadata": {},
   "outputs": [],
   "source": [
    "# Let's get some information about the model parameters\n",
    "print(model)"
   ]
  },
  {
   "cell_type": "markdown",
   "id": "1fb99192",
   "metadata": {},
   "source": [
    " You can check your implementation by passing the data to the model. This should look like the following:"
   ]
  },
  {
   "cell_type": "code",
   "execution_count": null,
   "id": "864b29f9",
   "metadata": {},
   "outputs": [],
   "source": [
    "batch_dimensions = get_batch_dimensions(batch_size=10, n_particles=n_particles)"
   ]
  },
  {
   "cell_type": "code",
   "execution_count": null,
   "id": "9766a3e1",
   "metadata": {},
   "outputs": [],
   "source": [
    "# A forward pass of the model looks like this:\n",
    "# out = model.forward(z,pos.reshape(-1,3),batch_dimensions)"
   ]
  }
 ],
 "metadata": {
  "kernelspec": {
   "display_name": "molecular_simulations_env",
   "language": "python",
   "name": "python3"
  },
  "language_info": {
   "codemirror_mode": {
    "name": "ipython",
    "version": 3
   },
   "file_extension": ".py",
   "mimetype": "text/x-python",
   "name": "python",
   "nbconvert_exporter": "python",
   "pygments_lexer": "ipython3",
   "version": "3.12.6"
  }
 },
 "nbformat": 4,
 "nbformat_minor": 5
}
