{
 "cells": [
  {
   "cell_type": "code",
   "execution_count": 351,
   "metadata": {
    "id": "MF7BncmmLBeO"
   },
   "outputs": [],
   "source": [
    "import os\n",
    "\n",
    "import numpy as np\n",
    "import matplotlib.pyplot as plt\n",
    "import torch\n",
    "from sklearn.datasets import load_digits\n",
    "from sklearn import datasets\n",
    "from torch.utils.data import Dataset, DataLoader\n",
    "import torch.nn as nn\n",
    "import torch.nn.functional as F\n",
    "import torchvision.transforms as tt"
   ]
  },
  {
   "cell_type": "code",
   "execution_count": 352,
   "metadata": {},
   "outputs": [],
   "source": [
    "from utils import MLP, train"
   ]
  },
  {
   "cell_type": "markdown",
   "metadata": {
    "id": "RKsmjLumL5A2"
   },
   "source": [
    "## Dataset: Digits"
   ]
  },
  {
   "cell_type": "markdown",
   "metadata": {},
   "source": [
    "In this example, we use a dataset that even simpler than the traditional MNIST dataset we have studied so far: We use a scipy dataset called Digits. It consists of ~1500 images of size 8x8, and each pixel can take values in $\\{0, 1, \\ldots, 16\\}$.\n"
   ]
  },
  {
   "cell_type": "code",
   "execution_count": 353,
   "metadata": {
    "id": "hSWUnXAYLLif"
   },
   "outputs": [],
   "source": [
    "class Digits(Dataset):\n",
    "    \"\"\"Scikit-Learn Digits dataset.\"\"\"\n",
    "\n",
    "    def __init__(self, mode='train', transforms=None):\n",
    "        digits = load_digits()\n",
    "        if mode == 'train':\n",
    "            self.data = digits.data[:1000].astype(np.float32)\n",
    "        elif mode == 'val':\n",
    "            self.data = digits.data[1000:1350].astype(np.float32)\n",
    "        else:\n",
    "            self.data = digits.data[1350:].astype(np.float32)\n",
    "\n",
    "        self.transforms = transforms\n",
    "\n",
    "    def __len__(self):\n",
    "        return len(self.data)\n",
    "\n",
    "    def __getitem__(self, idx):\n",
    "        sample = self.data[idx]\n",
    "        if self.transforms:\n",
    "            sample = self.transforms(sample)\n",
    "        return sample"
   ]
  },
  {
   "cell_type": "code",
   "execution_count": 354,
   "metadata": {},
   "outputs": [],
   "source": [
    "transforms = tt.Lambda(lambda x: 2. * (x / 17.) - 1.)  # changing to [-1, 1]"
   ]
  },
  {
   "cell_type": "code",
   "execution_count": 355,
   "metadata": {},
   "outputs": [],
   "source": [
    "train_data = Digits(mode='train', transforms=transforms)\n",
    "val_data = Digits(mode='val', transforms=transforms)\n",
    "test_data = Digits(mode='test', transforms=transforms)\n",
    "\n",
    "training_loader = DataLoader(train_data, batch_size=32, shuffle=True)\n",
    "val_loader = DataLoader(val_data, batch_size=32, shuffle=False)\n",
    "test_loader = DataLoader(test_data, batch_size=32, shuffle=False)"
   ]
  },
  {
   "cell_type": "markdown",
   "metadata": {},
   "source": [
    "Let's have a look at some of the samples of the dataset. The samples are already flattened to a 1D array of size 64, so we have to reshape them to get the full image."
   ]
  },
  {
   "cell_type": "code",
   "execution_count": 356,
   "metadata": {},
   "outputs": [
    {
     "data": {
      "image/png": "[encoded data removed]",
      "text/plain": [
       "<Figure size 500x500 with 4 Axes>"
      ]
     },
     "metadata": {},
     "output_type": "display_data"
    }
   ],
   "source": [
    "plt.figure(figsize=(5,5))\n",
    "\n",
    "for i in range(4):\n",
    "    id_random = np.random.randint(0,999)\n",
    "    image = train_data.data[id_random]\n",
    "    \n",
    "    plt.subplot(2,2,i+1)\n",
    "    plt.axis('off')\n",
    "    plt.imshow(image.reshape(8,8), cmap=\"gray_r\")\n",
    "\n"
   ]
  },
  {
   "cell_type": "markdown",
   "metadata": {
    "id": "qSP2qiMqMICK"
   },
   "source": [
    "## Score-based Generative Model"
   ]
  },
  {
   "cell_type": "code",
   "execution_count": null,
   "metadata": {},
   "outputs": [
    {
     "name": "stderr",
     "output_type": "stream",
     "text": [
      "<>:122: SyntaxWarning: invalid escape sequence '\\('\n",
      "<>:146: SyntaxWarning: invalid escape sequence '\\('\n",
      "<>:122: SyntaxWarning: invalid escape sequence '\\('\n",
      "<>:146: SyntaxWarning: invalid escape sequence '\\('\n",
      "/var/folders/y9/lzm82l3943n1ly680x98vpm40000gn/T/ipykernel_49131/610561805.py:122: SyntaxWarning: invalid escape sequence '\\('\n",
      "  \"\"\"\n",
      "/var/folders/y9/lzm82l3943n1ly680x98vpm40000gn/T/ipykernel_49131/610561805.py:146: SyntaxWarning: invalid escape sequence '\\('\n",
      "  \"\"\"\n"
     ]
    }
   ],
   "source": [
    "class ScoreBasedGenerativeModel(nn.Module):\n",
    "    def __init__(self,  sigma, D, T):\n",
    "        super(ScoreBasedGenerativeModel, self).__init__()\n",
    "\n",
    "        \"\"\"\n",
    "        Parameters:\n",
    "        -----------\n",
    "        sigma : float\n",
    "            The parameter controlling the noise level in the score-based generative model.\n",
    "        D : int\n",
    "            The dimensionality of the data distribution.\n",
    "        T : float\n",
    "            The maximum time horizon for the model.\n",
    "\n",
    "        Attributes:\n",
    "        -----------\n",
    "        sigma : torch.Tensor\n",
    "            The noise parameter wrapped in a PyTorch tensor.\n",
    "        base : torch.distributions.MultivariateNormal\n",
    "            The base distribution, modeled as a multivariate Gaussian with diagonal covariance.\n",
    "        snet : torch.nn.Module\n",
    "            The score network used for approximating the score function.\n",
    "        time_embedding : torch.nn.Sequential\n",
    "            A simple time embedding module consisting of a linear layer followed by a Tanh activation.\n",
    "        D : int\n",
    "            Dimensionality of the data distribution.\n",
    "        T : float\n",
    "            Number of timesteps.\n",
    "        EPS : float\n",
    "            A small constant used for numerical stability.\n",
    "        \"\"\"\n",
    "        \n",
    "        # sigma parameter\n",
    "        self.sigma = torch.Tensor([sigma])\n",
    "        \n",
    "        # variance of the base, i.e, sigma_t evaluated at t=1\n",
    "        var = (1./(2.* torch.log(self.sigma))) * (self.sigma**2 - 1.)\n",
    "\n",
    "        # base distribution\n",
    "        self.base = torch.distributions.multivariate_normal.MultivariateNormal(torch.zeros(D), var * torch.eye(D))\n",
    "        \n",
    "        # time embedding (a single linear layer)\n",
    "        self.time_embedding = nn.Sequential(nn.Linear(1, D), nn.Tanh())\n",
    "        \n",
    "        # dimensionality\n",
    "        self.dim = D\n",
    "\n",
    "        print(\"D: \", D)\n",
    "        \n",
    "        # number of time steps\n",
    "        self.n_time_steps = T\n",
    "                \n",
    "        # for numerical stability\n",
    "        self.EPS = 1.e-5\n",
    "\n",
    "        conv_model = nn.Sequential(\n",
    "            nn.Conv2d(1, 16, kernel_size=3, stride=1, padding=1),  # Output: (16, 8, 8)\n",
    "            nn.ReLU(),\n",
    "            nn.Conv2d(16, 32, kernel_size=3, stride=1, padding=1),  # Output: (32, 8, 8)\n",
    "            nn.ReLU(),\n",
    "            nn.Conv2d(32, 64, kernel_size=3, stride=1, padding=1),  # Output: (64, 8, 8)\n",
    "            nn.ReLU(),\n",
    "            nn.Flatten(),  # Flatten the output: (B, 64 * 8 * 8)\n",
    "            nn.Linear(64 * 8 * 8, D),  # Output: (B, D) for score function\n",
    "        )\n",
    "\n",
    "        # score model (MLP architecture)\n",
    "        linear_model = nn.Sequential(\n",
    "            nn.Linear(D, 512),\n",
    "            nn.LeakyReLU(0.2),\n",
    "            nn.Linear(512, 256),\n",
    "            nn.LeakyReLU(0.2),\n",
    "            nn.Linear(256, 128),\n",
    "            nn.LeakyReLU(0.2),\n",
    "            nn.Linear(128, D)  # Ensure that this matches D = 64\n",
    "        )\n",
    "\n",
    "        self.s_net = conv_model\n",
    "        \n",
    "    def sigma_t(self, t):\n",
    "        \"\"\"\n",
    "        Computes the time-dependent standard deviation (sigma) of the distribution.\n",
    "\n",
    "        This function calculates the standard deviation based on the given parameter `t`.\n",
    "        It uses the `self.sigma` attribute as a base parameter to derive the value.\n",
    "\n",
    "        Args:\n",
    "            t (float or Tensor): The time variable, which determines the evolution of the standard deviation.\n",
    "\n",
    "        Returns:\n",
    "            Tensor: The computed standard deviation at time `t`.\n",
    "\n",
    "        Notes:\n",
    "            The formula used is:\n",
    "                sqrt((1 / (2 * log(self.sigma))) * (self.sigma^(2t) - 1))\n",
    "            where `self.sigma` is the base parameter of the distribution.\n",
    "        \"\"\"\n",
    "        return torch.sqrt((1./(2. * torch.log(self.sigma))) * (self.sigma**(2.*t) - 1.))\n",
    "\n",
    "    def sample_base(self, shape):\n",
    "        \"\"\"\n",
    "        Samples from the base distribution.\n",
    "\n",
    "        This function generates samples from the base distribution defined by `self.base`. \n",
    "        The number and structure of samples are determined by the provided `shape`.\n",
    "\n",
    "        Args:\n",
    "            shape (tuple): The desired shape of the samples.\n",
    "\n",
    "        Returns:\n",
    "            Tensor: A tensor of samples drawn from the base distribution.\n",
    "\n",
    "        Notes:\n",
    "            This method uses the `rsample` function to allow for reparameterized gradients, \n",
    "            which is useful in optimization contexts like variational inference.\n",
    "        \"\"\"\n",
    "        output = self.base.rsample(sample_shape=(shape[0],))  # Shape should be (n_samples, 64)\n",
    "        print(f\"Sample base output shape: {output.shape}\")  # Debugging line\n",
    "        return output\n",
    "        \n",
    "    def sample_p_t(self, x_0, x_1, t):\n",
    "        \"\"\"\n",
    "        Samples from the conditional distribution \\( p_{0t}(x_t \\mid x_0) \\).\n",
    "\n",
    "        This function generates a sample at time `t` given:\n",
    "        - `x_0`, which represents the data sample,\n",
    "        - `x_1`, which represents noise,\n",
    "        using a scaling factor derived from the time-dependent standard deviation (`sigma_fun(t)`).\n",
    "\n",
    "        Args:\n",
    "            x_0 (Tensor): The data sample.\n",
    "            x_1 (Tensor): The noise sample.\n",
    "            t (float or Tensor): The time variable that modulates the noise's influence.\n",
    "\n",
    "        Returns:\n",
    "            Tensor: The generated sample \\( x_t \\) at time `t`.\n",
    "\n",
    "        Notes:\n",
    "            The computation follows the formula:\n",
    "                \\( x_t = x_0 + \\sigma(t) \\cdot x_1 \\)\n",
    "            where \\( \\sigma(t) \\) is the time-dependent standard deviation computed by `sigma_fun(t)`.\n",
    "        \"\"\"\n",
    "        return x_0 + self.sigma_t(t) * x_1 # YOUR IMPLEMENTATION HERE\n",
    "    \n",
    "    def diffusion_coeff(self, t):\n",
    "        \"\"\"\n",
    "        Computes the diffusion coefficient of the stochastic differential equation (SDE).\n",
    "\n",
    "        The diffusion coefficient is time-dependent and is calculated as a power of \n",
    "        the base parameter `self.sigma` raised to `t`.\n",
    "\n",
    "        Args:\n",
    "            t (float or Tensor): The time variable, which determines the diffusion coefficient's value.\n",
    "\n",
    "        Returns:\n",
    "            Tensor: The diffusion coefficient at time `t`.\n",
    "\n",
    "        Notes:\n",
    "            The formula used is:\n",
    "                \\( g(t) = \\sigma^t \\)\n",
    "            where `\\sigma` is a constant parameter defined by `self.sigma`.\n",
    "        \"\"\"\n",
    "        return self.sigma**t\n",
    "    \n",
    "    def forward(self):\n",
    "        return self.s_net # YOUR IMPLEMENTATION HERE\n",
    "\n",
    "    def sample(self, n_samples):\n",
    "        \"\"\"\n",
    "        Generate samples using a diffusion-based process with backward Euler's method.\n",
    "\n",
    "        This function generates samples starting from a base distribution and iteratively\n",
    "        refines them using a backward Euler method. It applies a diffusion process to\n",
    "        transition from noise to the desired distribution over time.\n",
    "\n",
    "        Args:\n",
    "            n_samples (int, optional): Number of samples to generate.\n",
    "\n",
    "        Returns:\n",
    "            torch.Tensor: A tensor containing the generated samples with shape (batch_size, self.D).\n",
    "\n",
    "        Method:\n",
    "        1. Initialize the samples (x_t) by drawing from a base distribution defined by\n",
    "           Normal(0, 1 / (2 * log(sigma)) * (sigma^2 - 1)).\n",
    "        2. Iterate through a sequence of time steps `ts` from 1 to `EPS` using backward Euler's method.\n",
    "           - Compute the time step size `delta_t`.\n",
    "           - For each time step:\n",
    "             - Use the diffusion coefficient and score network to calculate the update direction.\n",
    "             - Update `x_t` using the backward Euler update formula.\n",
    "        3. Apply a hyperbolic tangent (tanh) transformation to the final samples to constrain the output.\n",
    "\n",
    "        Notes:\n",
    "        - `x_0` corresponds to the data distribution.\n",
    "        - `x_1` corresponds to the noise distribution.\n",
    "        - The time steps are processed in reverse, consistent with the backward Euler method.\n",
    "\n",
    "        Example Usage:\n",
    "            samples = model.sample(batch_size=128)\n",
    "\n",
    "        \"\"\"\n",
    "    # Sample x_t from the base distribution (using sample_base function)\n",
    "        print(\"self.dim: \", self.dim)\n",
    "        x_t = self.sample_base((n_samples, self.dim))  # Shape: (n_samples, D)\n",
    "\n",
    "        # Debugging line to check initial shape\n",
    "        print(f\"Initial x_t shape: {x_t.shape}\")  # Debugging line: Check initial shape\n",
    "\n",
    "        # Reshape x_t to match the image dimensions (since we're generating 8x8 images)\n",
    "        x_t = x_t.view(n_samples, 1, 8, 8)  # Reshape to (n_samples, 1, 8, 8) for 8x8 MNIST\n",
    "\n",
    "        # Debugging: Check shape after reshaping\n",
    "        print(f\"x_t shape after reshaping to 8x8: {x_t.shape}\")\n",
    "\n",
    "        # Backward Euler steps for refining the samples\n",
    "        times = torch.linspace(1., self.EPS, self.n_time_steps)\n",
    "        delta_t = times[0] - times[1]\n",
    "        \n",
    "        for t in times[1:]:\n",
    "            tt = torch.Tensor([t])\n",
    "            # Compute the update step using the score network\n",
    "            u = 0.5 * self.diffusion_coeff(tt) * self.s_net(x_t.view(n_samples, self.dim) + self.time_embedding(tt))\n",
    "            x_t = x_t - delta_t * u.view(n_samples, 1, 8, 8)  # Ensure the update matches the image shape\n",
    "\n",
    "            # Debugging: Check shape during each time step\n",
    "            print(f\"x_t shape during step {t}: {x_t.shape}\")\n",
    "\n",
    "        # Apply tanh to constrain the values (for proper image intensity)\n",
    "        x_t = torch.tanh(x_t)\n",
    "\n",
    "        # Final debugging: Check the final shape\n",
    "        print(f\"Final x_t shape: {x_t.shape}\")\n",
    "\n",
    "        return x_t\n",
    "\n",
    "\n",
    "\n",
    "\n"
   ]
  },
  {
   "cell_type": "markdown",
   "metadata": {
    "id": "0BXJ9dN0MinB"
   },
   "source": [
    "## Experiments"
   ]
  },
  {
   "cell_type": "code",
   "execution_count": 358,
   "metadata": {
    "id": "ANQo7LrGLjIN"
   },
   "outputs": [],
   "source": [
    "\n",
    "# input dimension\n",
    "DIM = 64   \n",
    "\n",
    "# Number of time steps\n",
    "n_time_steps = 20\n",
    "\n",
    "sigma = 1.01\n",
    "\n",
    "\n",
    "num_epochs = 1000"
   ]
  },
  {
   "cell_type": "code",
   "execution_count": 359,
   "metadata": {},
   "outputs": [
    {
     "name": "stdout",
     "output_type": "stream",
     "text": [
      "D:  64\n"
     ]
    }
   ],
   "source": [
    "# Initialize model, optimizer, and hyperparameters\n",
    "device = torch.device(\"cuda\" if torch.cuda.is_available() else \"cpu\")\n",
    "model = ScoreBasedGenerativeModel(sigma=sigma, D=DIM, T=n_time_steps).to(device)\n",
    "optimizer = torch.optim.Adam(model.parameters(), lr=1e-3)\n",
    "\n",
    "train_losses = []\n",
    "test_losses = []"
   ]
  },
  {
   "cell_type": "code",
   "execution_count": 360,
   "metadata": {},
   "outputs": [
    {
     "ename": "RuntimeError",
     "evalue": "Expected 3D (unbatched) or 4D (batched) input to conv2d, but got input of size: [32, 64]",
     "output_type": "error",
     "traceback": [
      "\u001b[0;31m---------------------------------------------------------------------------\u001b[0m",
      "\u001b[0;31mRuntimeError\u001b[0m                              Traceback (most recent call last)",
      "Cell \u001b[0;32mIn[360], line 19\u001b[0m\n\u001b[1;32m     16\u001b[0m t_embedded \u001b[38;5;241m=\u001b[39m model\u001b[38;5;241m.\u001b[39mtime_embedding(t)  \u001b[38;5;66;03m# Time embedding\u001b[39;00m\n\u001b[1;32m     18\u001b[0m \u001b[38;5;66;03m# Step 2: Score network prediction\u001b[39;00m\n\u001b[0;32m---> 19\u001b[0m predicted_score \u001b[38;5;241m=\u001b[39m \u001b[43mmodel\u001b[49m\u001b[38;5;241;43m.\u001b[39;49m\u001b[43ms_net\u001b[49m\u001b[43m(\u001b[49m\u001b[43mx_t\u001b[49m\u001b[43m \u001b[49m\u001b[38;5;241;43m+\u001b[39;49m\u001b[43m \u001b[49m\u001b[43mt_embedded\u001b[49m\u001b[43m)\u001b[49m  \u001b[38;5;66;03m# sθ(x_t + ˜t)\u001b[39;00m\n\u001b[1;32m     21\u001b[0m \u001b[38;5;66;03m# Step 3: Compute loss\u001b[39;00m\n\u001b[1;32m     22\u001b[0m loss \u001b[38;5;241m=\u001b[39m torch\u001b[38;5;241m.\u001b[39mmean(\n\u001b[1;32m     23\u001b[0m     (sigma_t \u001b[38;5;241m*\u001b[39m\u001b[38;5;241m*\u001b[39m \u001b[38;5;241m2\u001b[39m) \u001b[38;5;241m*\u001b[39m torch\u001b[38;5;241m.\u001b[39msum((x_1 \u001b[38;5;241m-\u001b[39m sigma_t \u001b[38;5;241m*\u001b[39m predicted_score) \u001b[38;5;241m*\u001b[39m\u001b[38;5;241m*\u001b[39m \u001b[38;5;241m2\u001b[39m, dim\u001b[38;5;241m=\u001b[39m\u001b[38;5;241m1\u001b[39m)\n\u001b[1;32m     24\u001b[0m )\n",
      "File \u001b[0;32m~/Documents/freie_universitat/molecular_simulations/molecular_simulations_env/lib/python3.12/site-packages/torch/nn/modules/module.py:1511\u001b[0m, in \u001b[0;36mModule._wrapped_call_impl\u001b[0;34m(self, *args, **kwargs)\u001b[0m\n\u001b[1;32m   1509\u001b[0m     \u001b[38;5;28;01mreturn\u001b[39;00m \u001b[38;5;28mself\u001b[39m\u001b[38;5;241m.\u001b[39m_compiled_call_impl(\u001b[38;5;241m*\u001b[39margs, \u001b[38;5;241m*\u001b[39m\u001b[38;5;241m*\u001b[39mkwargs)  \u001b[38;5;66;03m# type: ignore[misc]\u001b[39;00m\n\u001b[1;32m   1510\u001b[0m \u001b[38;5;28;01melse\u001b[39;00m:\n\u001b[0;32m-> 1511\u001b[0m     \u001b[38;5;28;01mreturn\u001b[39;00m \u001b[38;5;28;43mself\u001b[39;49m\u001b[38;5;241;43m.\u001b[39;49m\u001b[43m_call_impl\u001b[49m\u001b[43m(\u001b[49m\u001b[38;5;241;43m*\u001b[39;49m\u001b[43margs\u001b[49m\u001b[43m,\u001b[49m\u001b[43m \u001b[49m\u001b[38;5;241;43m*\u001b[39;49m\u001b[38;5;241;43m*\u001b[39;49m\u001b[43mkwargs\u001b[49m\u001b[43m)\u001b[49m\n",
      "File \u001b[0;32m~/Documents/freie_universitat/molecular_simulations/molecular_simulations_env/lib/python3.12/site-packages/torch/nn/modules/module.py:1520\u001b[0m, in \u001b[0;36mModule._call_impl\u001b[0;34m(self, *args, **kwargs)\u001b[0m\n\u001b[1;32m   1515\u001b[0m \u001b[38;5;66;03m# If we don't have any hooks, we want to skip the rest of the logic in\u001b[39;00m\n\u001b[1;32m   1516\u001b[0m \u001b[38;5;66;03m# this function, and just call forward.\u001b[39;00m\n\u001b[1;32m   1517\u001b[0m \u001b[38;5;28;01mif\u001b[39;00m \u001b[38;5;129;01mnot\u001b[39;00m (\u001b[38;5;28mself\u001b[39m\u001b[38;5;241m.\u001b[39m_backward_hooks \u001b[38;5;129;01mor\u001b[39;00m \u001b[38;5;28mself\u001b[39m\u001b[38;5;241m.\u001b[39m_backward_pre_hooks \u001b[38;5;129;01mor\u001b[39;00m \u001b[38;5;28mself\u001b[39m\u001b[38;5;241m.\u001b[39m_forward_hooks \u001b[38;5;129;01mor\u001b[39;00m \u001b[38;5;28mself\u001b[39m\u001b[38;5;241m.\u001b[39m_forward_pre_hooks\n\u001b[1;32m   1518\u001b[0m         \u001b[38;5;129;01mor\u001b[39;00m _global_backward_pre_hooks \u001b[38;5;129;01mor\u001b[39;00m _global_backward_hooks\n\u001b[1;32m   1519\u001b[0m         \u001b[38;5;129;01mor\u001b[39;00m _global_forward_hooks \u001b[38;5;129;01mor\u001b[39;00m _global_forward_pre_hooks):\n\u001b[0;32m-> 1520\u001b[0m     \u001b[38;5;28;01mreturn\u001b[39;00m \u001b[43mforward_call\u001b[49m\u001b[43m(\u001b[49m\u001b[38;5;241;43m*\u001b[39;49m\u001b[43margs\u001b[49m\u001b[43m,\u001b[49m\u001b[43m \u001b[49m\u001b[38;5;241;43m*\u001b[39;49m\u001b[38;5;241;43m*\u001b[39;49m\u001b[43mkwargs\u001b[49m\u001b[43m)\u001b[49m\n\u001b[1;32m   1522\u001b[0m \u001b[38;5;28;01mtry\u001b[39;00m:\n\u001b[1;32m   1523\u001b[0m     result \u001b[38;5;241m=\u001b[39m \u001b[38;5;28;01mNone\u001b[39;00m\n",
      "File \u001b[0;32m~/Documents/freie_universitat/molecular_simulations/molecular_simulations_env/lib/python3.12/site-packages/torch/nn/modules/container.py:217\u001b[0m, in \u001b[0;36mSequential.forward\u001b[0;34m(self, input)\u001b[0m\n\u001b[1;32m    215\u001b[0m \u001b[38;5;28;01mdef\u001b[39;00m \u001b[38;5;21mforward\u001b[39m(\u001b[38;5;28mself\u001b[39m, \u001b[38;5;28minput\u001b[39m):\n\u001b[1;32m    216\u001b[0m     \u001b[38;5;28;01mfor\u001b[39;00m module \u001b[38;5;129;01min\u001b[39;00m \u001b[38;5;28mself\u001b[39m:\n\u001b[0;32m--> 217\u001b[0m         \u001b[38;5;28minput\u001b[39m \u001b[38;5;241m=\u001b[39m \u001b[43mmodule\u001b[49m\u001b[43m(\u001b[49m\u001b[38;5;28;43minput\u001b[39;49m\u001b[43m)\u001b[49m\n\u001b[1;32m    218\u001b[0m     \u001b[38;5;28;01mreturn\u001b[39;00m \u001b[38;5;28minput\u001b[39m\n",
      "File \u001b[0;32m~/Documents/freie_universitat/molecular_simulations/molecular_simulations_env/lib/python3.12/site-packages/torch/nn/modules/module.py:1511\u001b[0m, in \u001b[0;36mModule._wrapped_call_impl\u001b[0;34m(self, *args, **kwargs)\u001b[0m\n\u001b[1;32m   1509\u001b[0m     \u001b[38;5;28;01mreturn\u001b[39;00m \u001b[38;5;28mself\u001b[39m\u001b[38;5;241m.\u001b[39m_compiled_call_impl(\u001b[38;5;241m*\u001b[39margs, \u001b[38;5;241m*\u001b[39m\u001b[38;5;241m*\u001b[39mkwargs)  \u001b[38;5;66;03m# type: ignore[misc]\u001b[39;00m\n\u001b[1;32m   1510\u001b[0m \u001b[38;5;28;01melse\u001b[39;00m:\n\u001b[0;32m-> 1511\u001b[0m     \u001b[38;5;28;01mreturn\u001b[39;00m \u001b[38;5;28;43mself\u001b[39;49m\u001b[38;5;241;43m.\u001b[39;49m\u001b[43m_call_impl\u001b[49m\u001b[43m(\u001b[49m\u001b[38;5;241;43m*\u001b[39;49m\u001b[43margs\u001b[49m\u001b[43m,\u001b[49m\u001b[43m \u001b[49m\u001b[38;5;241;43m*\u001b[39;49m\u001b[38;5;241;43m*\u001b[39;49m\u001b[43mkwargs\u001b[49m\u001b[43m)\u001b[49m\n",
      "File \u001b[0;32m~/Documents/freie_universitat/molecular_simulations/molecular_simulations_env/lib/python3.12/site-packages/torch/nn/modules/module.py:1520\u001b[0m, in \u001b[0;36mModule._call_impl\u001b[0;34m(self, *args, **kwargs)\u001b[0m\n\u001b[1;32m   1515\u001b[0m \u001b[38;5;66;03m# If we don't have any hooks, we want to skip the rest of the logic in\u001b[39;00m\n\u001b[1;32m   1516\u001b[0m \u001b[38;5;66;03m# this function, and just call forward.\u001b[39;00m\n\u001b[1;32m   1517\u001b[0m \u001b[38;5;28;01mif\u001b[39;00m \u001b[38;5;129;01mnot\u001b[39;00m (\u001b[38;5;28mself\u001b[39m\u001b[38;5;241m.\u001b[39m_backward_hooks \u001b[38;5;129;01mor\u001b[39;00m \u001b[38;5;28mself\u001b[39m\u001b[38;5;241m.\u001b[39m_backward_pre_hooks \u001b[38;5;129;01mor\u001b[39;00m \u001b[38;5;28mself\u001b[39m\u001b[38;5;241m.\u001b[39m_forward_hooks \u001b[38;5;129;01mor\u001b[39;00m \u001b[38;5;28mself\u001b[39m\u001b[38;5;241m.\u001b[39m_forward_pre_hooks\n\u001b[1;32m   1518\u001b[0m         \u001b[38;5;129;01mor\u001b[39;00m _global_backward_pre_hooks \u001b[38;5;129;01mor\u001b[39;00m _global_backward_hooks\n\u001b[1;32m   1519\u001b[0m         \u001b[38;5;129;01mor\u001b[39;00m _global_forward_hooks \u001b[38;5;129;01mor\u001b[39;00m _global_forward_pre_hooks):\n\u001b[0;32m-> 1520\u001b[0m     \u001b[38;5;28;01mreturn\u001b[39;00m \u001b[43mforward_call\u001b[49m\u001b[43m(\u001b[49m\u001b[38;5;241;43m*\u001b[39;49m\u001b[43margs\u001b[49m\u001b[43m,\u001b[49m\u001b[43m \u001b[49m\u001b[38;5;241;43m*\u001b[39;49m\u001b[38;5;241;43m*\u001b[39;49m\u001b[43mkwargs\u001b[49m\u001b[43m)\u001b[49m\n\u001b[1;32m   1522\u001b[0m \u001b[38;5;28;01mtry\u001b[39;00m:\n\u001b[1;32m   1523\u001b[0m     result \u001b[38;5;241m=\u001b[39m \u001b[38;5;28;01mNone\u001b[39;00m\n",
      "File \u001b[0;32m~/Documents/freie_universitat/molecular_simulations/molecular_simulations_env/lib/python3.12/site-packages/torch/nn/modules/conv.py:460\u001b[0m, in \u001b[0;36mConv2d.forward\u001b[0;34m(self, input)\u001b[0m\n\u001b[1;32m    459\u001b[0m \u001b[38;5;28;01mdef\u001b[39;00m \u001b[38;5;21mforward\u001b[39m(\u001b[38;5;28mself\u001b[39m, \u001b[38;5;28minput\u001b[39m: Tensor) \u001b[38;5;241m-\u001b[39m\u001b[38;5;241m>\u001b[39m Tensor:\n\u001b[0;32m--> 460\u001b[0m     \u001b[38;5;28;01mreturn\u001b[39;00m \u001b[38;5;28;43mself\u001b[39;49m\u001b[38;5;241;43m.\u001b[39;49m\u001b[43m_conv_forward\u001b[49m\u001b[43m(\u001b[49m\u001b[38;5;28;43minput\u001b[39;49m\u001b[43m,\u001b[49m\u001b[43m \u001b[49m\u001b[38;5;28;43mself\u001b[39;49m\u001b[38;5;241;43m.\u001b[39;49m\u001b[43mweight\u001b[49m\u001b[43m,\u001b[49m\u001b[43m \u001b[49m\u001b[38;5;28;43mself\u001b[39;49m\u001b[38;5;241;43m.\u001b[39;49m\u001b[43mbias\u001b[49m\u001b[43m)\u001b[49m\n",
      "File \u001b[0;32m~/Documents/freie_universitat/molecular_simulations/molecular_simulations_env/lib/python3.12/site-packages/torch/nn/modules/conv.py:456\u001b[0m, in \u001b[0;36mConv2d._conv_forward\u001b[0;34m(self, input, weight, bias)\u001b[0m\n\u001b[1;32m    452\u001b[0m \u001b[38;5;28;01mif\u001b[39;00m \u001b[38;5;28mself\u001b[39m\u001b[38;5;241m.\u001b[39mpadding_mode \u001b[38;5;241m!=\u001b[39m \u001b[38;5;124m'\u001b[39m\u001b[38;5;124mzeros\u001b[39m\u001b[38;5;124m'\u001b[39m:\n\u001b[1;32m    453\u001b[0m     \u001b[38;5;28;01mreturn\u001b[39;00m F\u001b[38;5;241m.\u001b[39mconv2d(F\u001b[38;5;241m.\u001b[39mpad(\u001b[38;5;28minput\u001b[39m, \u001b[38;5;28mself\u001b[39m\u001b[38;5;241m.\u001b[39m_reversed_padding_repeated_twice, mode\u001b[38;5;241m=\u001b[39m\u001b[38;5;28mself\u001b[39m\u001b[38;5;241m.\u001b[39mpadding_mode),\n\u001b[1;32m    454\u001b[0m                     weight, bias, \u001b[38;5;28mself\u001b[39m\u001b[38;5;241m.\u001b[39mstride,\n\u001b[1;32m    455\u001b[0m                     _pair(\u001b[38;5;241m0\u001b[39m), \u001b[38;5;28mself\u001b[39m\u001b[38;5;241m.\u001b[39mdilation, \u001b[38;5;28mself\u001b[39m\u001b[38;5;241m.\u001b[39mgroups)\n\u001b[0;32m--> 456\u001b[0m \u001b[38;5;28;01mreturn\u001b[39;00m \u001b[43mF\u001b[49m\u001b[38;5;241;43m.\u001b[39;49m\u001b[43mconv2d\u001b[49m\u001b[43m(\u001b[49m\u001b[38;5;28;43minput\u001b[39;49m\u001b[43m,\u001b[49m\u001b[43m \u001b[49m\u001b[43mweight\u001b[49m\u001b[43m,\u001b[49m\u001b[43m \u001b[49m\u001b[43mbias\u001b[49m\u001b[43m,\u001b[49m\u001b[43m \u001b[49m\u001b[38;5;28;43mself\u001b[39;49m\u001b[38;5;241;43m.\u001b[39;49m\u001b[43mstride\u001b[49m\u001b[43m,\u001b[49m\n\u001b[1;32m    457\u001b[0m \u001b[43m                \u001b[49m\u001b[38;5;28;43mself\u001b[39;49m\u001b[38;5;241;43m.\u001b[39;49m\u001b[43mpadding\u001b[49m\u001b[43m,\u001b[49m\u001b[43m \u001b[49m\u001b[38;5;28;43mself\u001b[39;49m\u001b[38;5;241;43m.\u001b[39;49m\u001b[43mdilation\u001b[49m\u001b[43m,\u001b[49m\u001b[43m \u001b[49m\u001b[38;5;28;43mself\u001b[39;49m\u001b[38;5;241;43m.\u001b[39;49m\u001b[43mgroups\u001b[49m\u001b[43m)\u001b[49m\n",
      "\u001b[0;31mRuntimeError\u001b[0m: Expected 3D (unbatched) or 4D (batched) input to conv2d, but got input of size: [32, 64]"
     ]
    }
   ],
   "source": [
    "\n",
    "# Training loop\n",
    "for epoch in range(num_epochs):\n",
    "    model.train()\n",
    "    total_train_loss = 0.0\n",
    "\n",
    "    for batch in training_loader:\n",
    "        # Move batch to device\n",
    "        x_0 = batch.to(device)  # Data samples x0\n",
    "        batch_size = x_0.size(0)\n",
    "        \n",
    "        # Step 1: Draw samples\n",
    "        x_1 = torch.randn(batch_size, DIM, device=device)  # Noise samples x1\n",
    "        t = torch.rand(batch_size, 1, device=device)  # Uniform time samples t\n",
    "        sigma_t = model.sigma_t(t)  # Compute sigma(t)\n",
    "        x_t = x_0 + sigma_t * x_1  # Generate samples xt\n",
    "        t_embedded = model.time_embedding(t)  # Time embedding\n",
    "        \n",
    "        # Step 2: Score network prediction\n",
    "        predicted_score = model.s_net(x_t + t_embedded)  # sθ(x_t + ˜t)\n",
    "        \n",
    "        # Step 3: Compute loss\n",
    "        loss = torch.mean(\n",
    "            (sigma_t ** 2) * torch.sum((x_1 - sigma_t * predicted_score) ** 2, dim=1)\n",
    "        )\n",
    "        \n",
    "        # Step 4: Backpropagation and optimization\n",
    "        optimizer.zero_grad()\n",
    "        loss.backward()\n",
    "        optimizer.step()\n",
    "        \n",
    "        total_train_loss += loss.item()\n",
    "\n",
    "    # Store training loss\n",
    "    train_losses.append(total_train_loss / len(training_loader))\n",
    "    \n",
    "    # Evaluate on test set\n",
    "    model.eval()\n",
    "    total_test_loss = 0.0\n",
    "    with torch.no_grad():\n",
    "        for batch in test_loader:\n",
    "            x_0 = batch.to(device)  # Data samples x0\n",
    "            batch_size = x_0.size(0)\n",
    "            \n",
    "            # Step 1: Draw samples\n",
    "            x_1 = torch.randn(batch_size, DIM, device=device)  # Noise samples x1\n",
    "            t = torch.rand(batch_size, 1, device=device)  # Uniform time samples t\n",
    "            sigma_t = model.sigma_t(t)  # Compute sigma(t)\n",
    "            x_t = x_0 + sigma_t * x_1  # Generate samples xt\n",
    "            t_embedded = model.time_embedding(t)  # Time embedding\n",
    "            \n",
    "            # Step 2: Score network prediction\n",
    "            predicted_score = model.s_net(x_t + t_embedded)  # sθ(x_t + ˜t)\n",
    "            \n",
    "            # Step 3: Compute loss\n",
    "            loss = torch.mean(\n",
    "                (sigma_t ** 2) * torch.sum((x_1 - sigma_t * predicted_score) ** 2, dim=1)\n",
    "            )\n",
    "            \n",
    "            total_test_loss += loss.item()\n",
    "\n",
    "    # Store test loss\n",
    "    test_losses.append(total_test_loss / len(test_loader))\n",
    "\n",
    "    # Log epoch progress\n",
    "    print(f\"Epoch [{epoch + 1}/{num_epochs}], Train Loss: {train_losses[-1]:.4f}, Test Loss: {test_losses[-1]:.4f}\")\n",
    "\n",
    "# Save the trained model\n",
    "torch.save(model.state_dict(), \"score_based_model.pth\")"
   ]
  },
  {
   "cell_type": "code",
   "execution_count": null,
   "metadata": {},
   "outputs": [
    {
     "data": {
      "image/png": "[encoded data removed]",
      "text/plain": [
       "<Figure size 640x480 with 1 Axes>"
      ]
     },
     "metadata": {},
     "output_type": "display_data"
    }
   ],
   "source": [
    "\n",
    "# Plot the losses\n",
    "plt.plot(train_losses, label='Train Loss')\n",
    "plt.plot(test_losses, label='Test Loss')\n",
    "plt.xlabel('Epochs')\n",
    "plt.ylabel('Loss')\n",
    "plt.yscale('log')\n",
    "plt.title('Training and Test Losses Over Time')\n",
    "plt.legend()\n",
    "plt.show()\n"
   ]
  },
  {
   "cell_type": "code",
   "execution_count": null,
   "metadata": {},
   "outputs": [
    {
     "name": "stdout",
     "output_type": "stream",
     "text": [
      "self.dim:  64\n",
      "Sample base output shape: torch.Size([10, 64])\n",
      "Initial x_t shape: torch.Size([10, 64])\n",
      "x_t shape after reshaping to 8x8: torch.Size([10, 1, 8, 8])\n",
      "x_t shape during step 0.9473689794540405: torch.Size([10, 1, 8, 8])\n",
      "x_t shape during step 0.8947378993034363: torch.Size([10, 1, 8, 8])\n",
      "x_t shape during step 0.842106819152832: torch.Size([10, 1, 8, 8])\n",
      "x_t shape during step 0.7894757986068726: torch.Size([10, 1, 8, 8])\n",
      "x_t shape during step 0.7368447780609131: torch.Size([10, 1, 8, 8])\n",
      "x_t shape during step 0.6842136979103088: torch.Size([10, 1, 8, 8])\n",
      "x_t shape during step 0.6315826177597046: torch.Size([10, 1, 8, 8])\n",
      "x_t shape during step 0.5789515972137451: torch.Size([10, 1, 8, 8])\n",
      "x_t shape during step 0.5263205766677856: torch.Size([10, 1, 8, 8])\n",
      "x_t shape during step 0.473689466714859: torch.Size([10, 1, 8, 8])\n",
      "x_t shape during step 0.42105841636657715: torch.Size([10, 1, 8, 8])\n",
      "x_t shape during step 0.3684273660182953: torch.Size([10, 1, 8, 8])\n",
      "x_t shape during step 0.3157963156700134: torch.Size([10, 1, 8, 8])\n",
      "x_t shape during step 0.26316526532173157: torch.Size([10, 1, 8, 8])\n",
      "x_t shape during step 0.2105342000722885: torch.Size([10, 1, 8, 8])\n",
      "x_t shape during step 0.15790314972400665: torch.Size([10, 1, 8, 8])\n",
      "x_t shape during step 0.10527209937572479: torch.Size([10, 1, 8, 8])\n",
      "x_t shape during step 0.05264104902744293: torch.Size([10, 1, 8, 8])\n",
      "x_t shape during step 9.999999747378752e-06: torch.Size([10, 1, 8, 8])\n",
      "Final x_t shape: torch.Size([10, 1, 8, 8])\n"
     ]
    }
   ],
   "source": [
    "#  Number of samples to generate\n",
    "n_samples = 10\n",
    "\n",
    "# Generate samples using the model's sample method\n",
    "generated_samples = model.sample(n_samples)\n",
    "\n",
    "# Since the dataset is transformed to [-1, 1], reverse the transformation for visualization\n",
    "generated_samples = (generated_samples + 1) * 8.5  # Rescale back to [0, 17]\n",
    "generated_samples = generated_samples.cpu().detach().numpy().astype(np.uint8)  # Convert to integer range\n",
    "\n",
    "# Fetch the original samples from the dataset for comparison\n",
    "original_samples = train_data.data[:n_samples]  # Get the first 10 original samples for comparison\n",
    "original_samples = (original_samples / 8.5) - 1  # Transform them back to [-1, 1]\n",
    "\n"
   ]
  },
  {
   "cell_type": "code",
   "execution_count": null,
   "metadata": {},
   "outputs": [],
   "source": []
  },
  {
   "cell_type": "code",
   "execution_count": null,
   "metadata": {},
   "outputs": [
    {
     "name": "stdout",
     "output_type": "stream",
     "text": [
      "Generated samples shape: (10, 1, 8, 8)\n",
      "Generated sample 0 shape: (8, 8)\n",
      "Generated sample 1 shape: (8, 8)\n",
      "Generated sample 2 shape: (8, 8)\n",
      "Generated sample 3 shape: (8, 8)\n",
      "Generated sample 4 shape: (8, 8)\n",
      "Generated sample 5 shape: (8, 8)\n",
      "Generated sample 6 shape: (8, 8)\n",
      "Generated sample 7 shape: (8, 8)\n",
      "Generated sample 8 shape: (8, 8)\n",
      "Generated sample 9 shape: (8, 8)\n"
     ]
    },
    {
     "data": {
      "image/png": "[encoded data removed]",
      "text/plain": [
       "<Figure size 1500x500 with 20 Axes>"
      ]
     },
     "metadata": {},
     "output_type": "display_data"
    }
   ],
   "source": [
    "# Check the shape of generated_samples\n",
    "print(f\"Generated samples shape: {generated_samples.shape}\")\n",
    "\n",
    "fig, axes = plt.subplots(2, n_samples, figsize=(15, 5))\n",
    "\n",
    "# Display original samples\n",
    "for i in range(n_samples):\n",
    "    axes[0, i].imshow(original_samples[i].reshape(8, 8), cmap='gray')\n",
    "    axes[0, i].axis('off')\n",
    "    axes[0, i].set_title(f'Original {i}')\n",
    "\n",
    "# Display generated samples as 64x64\n",
    "for i in range(n_samples):\n",
    "    sample = generated_samples[i].reshape(8,8)\n",
    "    print(f\"Generated sample {i} shape: {sample.shape}\")\n",
    "    axes[1, i].imshow(sample, cmap='gray')  # Display the full 64x64 image\n",
    "    axes[1, i].axis('off')\n",
    "    axes[1, i].set_title(f'Generated {i}')\n",
    "\n",
    "plt.show()\n",
    "\n"
   ]
  }
 ],
 "metadata": {
  "colab": {
   "collapsed_sections": [],
   "name": "vae_priors.ipynb",
   "provenance": []
  },
  "kernelspec": {
   "display_name": "molecular_simulations_env",
   "language": "python",
   "name": "python3"
  },
  "language_info": {
   "codemirror_mode": {
    "name": "ipython",
    "version": 3
   },
   "file_extension": ".py",
   "mimetype": "text/x-python",
   "name": "python",
   "nbconvert_exporter": "python",
   "pygments_lexer": "ipython3",
   "version": "3.12.8"
  }
 },
 "nbformat": 4,
 "nbformat_minor": 4
}
