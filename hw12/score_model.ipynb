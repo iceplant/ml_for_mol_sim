{
 "cells": [
  {
   "cell_type": "code",
   "execution_count": 437,
   "metadata": {
    "id": "MF7BncmmLBeO"
   },
   "outputs": [],
   "source": [
    "import os\n",
    "\n",
    "import numpy as np\n",
    "import matplotlib.pyplot as plt\n",
    "import torch\n",
    "from sklearn.datasets import load_digits\n",
    "from sklearn import datasets\n",
    "from torch.utils.data import Dataset, DataLoader\n",
    "import torch.nn as nn\n",
    "import torch.nn.functional as F\n",
    "import torchvision.transforms as tt"
   ]
  },
  {
   "cell_type": "code",
   "execution_count": 438,
   "metadata": {},
   "outputs": [],
   "source": [
    "from utils import MLP, train"
   ]
  },
  {
   "cell_type": "markdown",
   "metadata": {
    "id": "RKsmjLumL5A2"
   },
   "source": [
    "## Dataset: Digits"
   ]
  },
  {
   "cell_type": "markdown",
   "metadata": {},
   "source": [
    "In this example, we use a dataset that even simpler than the traditional MNIST dataset we have studied so far: We use a scipy dataset called Digits. It consists of ~1500 images of size 8x8, and each pixel can take values in $\\{0, 1, \\ldots, 16\\}$.\n"
   ]
  },
  {
   "cell_type": "code",
   "execution_count": 439,
   "metadata": {
    "id": "hSWUnXAYLLif"
   },
   "outputs": [],
   "source": [
    "class Digits(Dataset):\n",
    "    \"\"\"Scikit-Learn Digits dataset.\"\"\"\n",
    "\n",
    "    def __init__(self, mode='train', transforms=None):\n",
    "        digits = load_digits()\n",
    "        if mode == 'train':\n",
    "            self.data = digits.data[:1000].astype(np.float32)\n",
    "        elif mode == 'val':\n",
    "            self.data = digits.data[1000:1350].astype(np.float32)\n",
    "        else:\n",
    "            self.data = digits.data[1350:].astype(np.float32)\n",
    "\n",
    "        self.transforms = transforms\n",
    "\n",
    "    def __len__(self):\n",
    "        return len(self.data)\n",
    "\n",
    "    def __getitem__(self, idx):\n",
    "        sample = self.data[idx]\n",
    "        if self.transforms:\n",
    "            sample = self.transforms(sample)\n",
    "        return sample"
   ]
  },
  {
   "cell_type": "code",
   "execution_count": 440,
   "metadata": {},
   "outputs": [],
   "source": [
    "transforms = tt.Lambda(lambda x: 2. * (x / 17.) - 1.)  # changing to [-1, 1]"
   ]
  },
  {
   "cell_type": "code",
   "execution_count": 441,
   "metadata": {},
   "outputs": [],
   "source": [
    "train_data = Digits(mode='train', transforms=transforms)\n",
    "val_data = Digits(mode='val', transforms=transforms)\n",
    "test_data = Digits(mode='test', transforms=transforms)\n",
    "\n",
    "training_loader = DataLoader(train_data, batch_size=32, shuffle=True)\n",
    "val_loader = DataLoader(val_data, batch_size=32, shuffle=False)\n",
    "test_loader = DataLoader(test_data, batch_size=32, shuffle=False)"
   ]
  },
  {
   "cell_type": "markdown",
   "metadata": {},
   "source": [
    "Let's have a look at some of the samples of the dataset. The samples are already flattened to a 1D array of size 64, so we have to reshape them to get the full image."
   ]
  },
  {
   "cell_type": "code",
   "execution_count": 442,
   "metadata": {},
   "outputs": [
    {
     "data": {
      "image/png": "[encoded data removed]",
      "text/plain": [
       "<Figure size 500x500 with 4 Axes>"
      ]
     },
     "metadata": {},
     "output_type": "display_data"
    }
   ],
   "source": [
    "plt.figure(figsize=(5,5))\n",
    "\n",
    "for i in range(4):\n",
    "    id_random = np.random.randint(0,999)\n",
    "    image = train_data.data[id_random]\n",
    "    \n",
    "    plt.subplot(2,2,i+1)\n",
    "    plt.axis('off')\n",
    "    plt.imshow(image.reshape(8,8), cmap=\"gray_r\")\n",
    "\n"
   ]
  },
  {
   "cell_type": "markdown",
   "metadata": {
    "id": "qSP2qiMqMICK"
   },
   "source": [
    "## Score-based Generative Model"
   ]
  },
  {
   "cell_type": "code",
   "execution_count": null,
   "metadata": {},
   "outputs": [
    {
     "name": "stderr",
     "output_type": "stream",
     "text": [
      "<>:168: SyntaxWarning: invalid escape sequence '\\('\n",
      "<>:192: SyntaxWarning: invalid escape sequence '\\('\n",
      "<>:168: SyntaxWarning: invalid escape sequence '\\('\n",
      "<>:192: SyntaxWarning: invalid escape sequence '\\('\n",
      "/var/folders/y9/lzm82l3943n1ly680x98vpm40000gn/T/ipykernel_49131/2095443489.py:168: SyntaxWarning: invalid escape sequence '\\('\n",
      "  \"\"\"\n",
      "/var/folders/y9/lzm82l3943n1ly680x98vpm40000gn/T/ipykernel_49131/2095443489.py:192: SyntaxWarning: invalid escape sequence '\\('\n",
      "  \"\"\"\n"
     ]
    }
   ],
   "source": [
    "class ScoreBasedGenerativeModel(nn.Module):\n",
    "    def __init__(self,  sigma, D, T):\n",
    "        super(ScoreBasedGenerativeModel, self).__init__()\n",
    "\n",
    "        \"\"\"\n",
    "        Parameters:\n",
    "        -----------\n",
    "        sigma : float\n",
    "            The parameter controlling the noise level in the score-based generative model.\n",
    "        D : int\n",
    "            The dimensionality of the data distribution.\n",
    "        T : float\n",
    "            The maximum time horizon for the model.\n",
    "\n",
    "        Attributes:\n",
    "        -----------\n",
    "        sigma : torch.Tensor\n",
    "            The noise parameter wrapped in a PyTorch tensor.\n",
    "        base : torch.distributions.MultivariateNormal\n",
    "            The base distribution, modeled as a multivariate Gaussian with diagonal covariance.\n",
    "        snet : torch.nn.Module\n",
    "            The score network used for approximating the score function.\n",
    "        time_embedding : torch.nn.Sequential\n",
    "            A simple time embedding module consisting of a linear layer followed by a Tanh activation.\n",
    "        D : int\n",
    "            Dimensionality of the data distribution.\n",
    "        T : float\n",
    "            Number of timesteps.\n",
    "        EPS : float\n",
    "            A small constant used for numerical stability.\n",
    "        \"\"\"\n",
    "        \n",
    "        # sigma parameter\n",
    "        self.sigma = torch.Tensor([sigma])\n",
    "        \n",
    "        # variance of the base, i.e, sigma_t evaluated at t=1\n",
    "        var = (1./(2.* torch.log(self.sigma))) * (self.sigma**2 - 1.)\n",
    "\n",
    "        # base distribution\n",
    "        self.base = torch.distributions.multivariate_normal.MultivariateNormal(torch.zeros(D), var * torch.eye(D))\n",
    "        \n",
    "        # time embedding (a single linear layer)\n",
    "        self.time_embedding = nn.Sequential(nn.Linear(1, D), nn.Tanh())\n",
    "        \n",
    "        # dimensionality\n",
    "        self.dim = D\n",
    "\n",
    "        print(\"D: \", D)\n",
    "        \n",
    "        # number of time steps\n",
    "        self.n_time_steps = T\n",
    "                \n",
    "        # for numerical stability\n",
    "        self.EPS = 1.e-5\n",
    "\n",
    "        encoder_decoder = nn.Sequential(\n",
    "            # Encoder\n",
    "            nn.Linear(D, 64 * 8 * 8),  # Reshape input from [batch_size, D] to [batch_size, 64, 8, 8]\n",
    "            nn.ReLU(),\n",
    "            nn.Unflatten(1, (64, 8, 8)),  # Reshape to [batch_size, 64, 8, 8] (64 channels, 8x8 spatial)\n",
    "\n",
    "            nn.Conv2d(64, 16, kernel_size=3, stride=1, padding=1),  # Output: [batch_size, 16, 8, 8]\n",
    "            nn.LeakyReLU(0.2),\n",
    "\n",
    "            nn.Conv2d(16, 32, kernel_size=3, stride=1, padding=1),  # Output: [batch_size, 32, 8, 8]\n",
    "            nn.LeakyReLU(0.2),\n",
    "\n",
    "            nn.Conv2d(32, 64, kernel_size=3, stride=1, padding=1),  # Output: [batch_size, 64, 8, 8]\n",
    "            nn.LeakyReLU(0.2),\n",
    "\n",
    "            # Decoder\n",
    "            nn.ConvTranspose2d(64, 32, kernel_size=3, stride=1, padding=1),  # Output: [batch_size, 32, 8, 8]\n",
    "            nn.LeakyReLU(0.2),\n",
    "\n",
    "            nn.ConvTranspose2d(32, 16, kernel_size=3, stride=1, padding=1),  # Output: [batch_size, 16, 8, 8]\n",
    "            nn.LeakyReLU(0.2),\n",
    "\n",
    "            nn.ConvTranspose2d(16, 64, kernel_size=3, stride=1, padding=1),  # Output: [batch_size, 64, 8, 8]\n",
    "            nn.LeakyReLU(0.2),\n",
    "\n",
    "            nn.Flatten(),\n",
    "            nn.Linear(64 * 8 * 8, D)  # Final output layer to match the original input dimensionality\n",
    "        )\n",
    "\n",
    "        conv_model = nn.Sequential(\n",
    "            # Initial linear layer to reshape the input from [batch_size, D] to [batch_size, 64, 8, 8]\n",
    "            nn.Linear(D, 64 * 8 * 8),  # D should be 64 in this case to match output size\n",
    "            nn.ReLU(),\n",
    "            nn.Unflatten(1, (64, 8, 8)),  # Reshape the output to [batch_size, 64, 8, 8] (64 channels, 8x8 spatial)\n",
    "\n",
    "            # First convolutional layer: Output shape will be [batch_size, 16, 8, 8]\n",
    "            nn.Conv2d(64, 16, kernel_size=3, stride=1, padding=1),\n",
    "            nn.LeakyReLU(0.2),\n",
    "\n",
    "            # Second convolutional layer: Output shape will be [batch_size, 32, 8, 8]\n",
    "            nn.Conv2d(16, 32, kernel_size=3, stride=1, padding=1),\n",
    "            nn.LeakyReLU(0.2),\n",
    "\n",
    "            # Third convolutional layer: Output shape will be [batch_size, 64, 8, 8]\n",
    "            nn.Conv2d(32, 64, kernel_size=3, stride=1, padding=1),\n",
    "            nn.LeakyReLU(0.2),\n",
    "\n",
    "            # Flatten to feed into a fully connected layer\n",
    "            nn.Flatten(),\n",
    "\n",
    "            # Final fully connected layer to output the same number of features as input (D)\n",
    "            nn.Linear(64 * 8 * 8, D),\n",
    "        )\n",
    "\n",
    "        # score model (MLP architecture)\n",
    "        linear_model = nn.Sequential(\n",
    "            nn.Linear(D, 512),\n",
    "            nn.LeakyReLU(0.2),\n",
    "            nn.Linear(512, 256),\n",
    "            nn.LeakyReLU(0.2),\n",
    "            nn.Linear(256, 128),\n",
    "            nn.LeakyReLU(0.2),\n",
    "            nn.Linear(128, D)  # Ensure that this matches D = 64\n",
    "        )\n",
    "\n",
    "        self.s_net = encoder_decoder\n",
    "        \n",
    "    def sigma_t(self, t):\n",
    "        \"\"\"\n",
    "        Computes the time-dependent standard deviation (sigma) of the distribution.\n",
    "\n",
    "        This function calculates the standard deviation based on the given parameter `t`.\n",
    "        It uses the `self.sigma` attribute as a base parameter to derive the value.\n",
    "\n",
    "        Args:\n",
    "            t (float or Tensor): The time variable, which determines the evolution of the standard deviation.\n",
    "\n",
    "        Returns:\n",
    "            Tensor: The computed standard deviation at time `t`.\n",
    "\n",
    "        Notes:\n",
    "            The formula used is:\n",
    "                sqrt((1 / (2 * log(self.sigma))) * (self.sigma^(2t) - 1))\n",
    "            where `self.sigma` is the base parameter of the distribution.\n",
    "        \"\"\"\n",
    "        return torch.sqrt((1./(2. * torch.log(self.sigma))) * (self.sigma**(2.*t) - 1.))\n",
    "\n",
    "    def sample_base(self, shape):\n",
    "        \"\"\"\n",
    "        Samples from the base distribution.\n",
    "\n",
    "        This function generates samples from the base distribution defined by `self.base`. \n",
    "        The number and structure of samples are determined by the provided `shape`.\n",
    "\n",
    "        Args:\n",
    "            shape (tuple): The desired shape of the samples.\n",
    "\n",
    "        Returns:\n",
    "            Tensor: A tensor of samples drawn from the base distribution.\n",
    "\n",
    "        Notes:\n",
    "            This method uses the `rsample` function to allow for reparameterized gradients, \n",
    "            which is useful in optimization contexts like variational inference.\n",
    "        \"\"\"\n",
    "        output = self.base.rsample(sample_shape=(shape[0],))  # Shape should be (n_samples, 64)\n",
    "        print(f\"Sample base output shape: {output.shape}\")  # Debugging line\n",
    "        return output\n",
    "        \n",
    "    def sample_p_t(self, x_0, x_1, t):\n",
    "        \"\"\"\n",
    "        Samples from the conditional distribution \\( p_{0t}(x_t \\mid x_0) \\).\n",
    "\n",
    "        This function generates a sample at time `t` given:\n",
    "        - `x_0`, which represents the data sample,\n",
    "        - `x_1`, which represents noise,\n",
    "        using a scaling factor derived from the time-dependent standard deviation (`sigma_fun(t)`).\n",
    "\n",
    "        Args:\n",
    "            x_0 (Tensor): The data sample.\n",
    "            x_1 (Tensor): The noise sample.\n",
    "            t (float or Tensor): The time variable that modulates the noise's influence.\n",
    "\n",
    "        Returns:\n",
    "            Tensor: The generated sample \\( x_t \\) at time `t`.\n",
    "\n",
    "        Notes:\n",
    "            The computation follows the formula:\n",
    "                \\( x_t = x_0 + \\sigma(t) \\cdot x_1 \\)\n",
    "            where \\( \\sigma(t) \\) is the time-dependent standard deviation computed by `sigma_fun(t)`.\n",
    "        \"\"\"\n",
    "        return x_0 + self.sigma_t(t) * x_1 # YOUR IMPLEMENTATION HERE\n",
    "    \n",
    "    def diffusion_coeff(self, t):\n",
    "        \"\"\"\n",
    "        Computes the diffusion coefficient of the stochastic differential equation (SDE).\n",
    "\n",
    "        The diffusion coefficient is time-dependent and is calculated as a power of \n",
    "        the base parameter `self.sigma` raised to `t`.\n",
    "\n",
    "        Args:\n",
    "            t (float or Tensor): The time variable, which determines the diffusion coefficient's value.\n",
    "\n",
    "        Returns:\n",
    "            Tensor: The diffusion coefficient at time `t`.\n",
    "\n",
    "        Notes:\n",
    "            The formula used is:\n",
    "                \\( g(t) = \\sigma^t \\)\n",
    "            where `\\sigma` is a constant parameter defined by `self.sigma`.\n",
    "        \"\"\"\n",
    "        return self.sigma**t\n",
    "    \n",
    "    def forward(self):\n",
    "        return self.s_net # YOUR IMPLEMENTATION HERE\n",
    "\n",
    "    def sample(self, n_samples):\n",
    "        \"\"\"\n",
    "        Generate samples using a diffusion-based process with backward Euler's method.\n",
    "\n",
    "        This function generates samples starting from a base distribution and iteratively\n",
    "        refines them using a backward Euler method. It applies a diffusion process to\n",
    "        transition from noise to the desired distribution over time.\n",
    "\n",
    "        Args:\n",
    "            n_samples (int, optional): Number of samples to generate.\n",
    "\n",
    "        Returns:\n",
    "            torch.Tensor: A tensor containing the generated samples with shape (batch_size, self.D).\n",
    "\n",
    "        Method:\n",
    "        1. Initialize the samples (x_t) by drawing from a base distribution defined by\n",
    "           Normal(0, 1 / (2 * log(sigma)) * (sigma^2 - 1)).\n",
    "        2. Iterate through a sequence of time steps `ts` from 1 to `EPS` using backward Euler's method.\n",
    "           - Compute the time step size `delta_t`.\n",
    "           - For each time step:\n",
    "             - Use the diffusion coefficient and score network to calculate the update direction.\n",
    "             - Update `x_t` using the backward Euler update formula.\n",
    "        3. Apply a hyperbolic tangent (tanh) transformation to the final samples to constrain the output.\n",
    "\n",
    "        Notes:\n",
    "        - `x_0` corresponds to the data distribution.\n",
    "        - `x_1` corresponds to the noise distribution.\n",
    "        - The time steps are processed in reverse, consistent with the backward Euler method.\n",
    "\n",
    "        Example Usage:\n",
    "            samples = model.sample(batch_size=128)\n",
    "\n",
    "        \"\"\"\n",
    "    # Sample x_t from the base distribution (using sample_base function)\n",
    "        print(\"self.dim: \", self.dim)\n",
    "        x_t = self.sample_base((n_samples, self.dim))  # Shape: (n_samples, D)\n",
    "\n",
    "        # Debugging line to check initial shape\n",
    "        print(f\"Initial x_t shape: {x_t.shape}\")  # Debugging line: Check initial shape\n",
    "\n",
    "        # Reshape x_t to match the image dimensions (since we're generating 8x8 images)\n",
    "        x_t = x_t.view(n_samples, 1, 8, 8)  # Reshape to (n_samples, 1, 8, 8) for 8x8 MNIST\n",
    "\n",
    "        # Debugging: Check shape after reshaping\n",
    "        print(f\"x_t shape after reshaping to 8x8: {x_t.shape}\")\n",
    "\n",
    "        # Backward Euler steps for refining the samples\n",
    "        times = torch.linspace(1., self.EPS, self.n_time_steps)\n",
    "        delta_t = times[0] - times[1]\n",
    "        \n",
    "        for t in times[1:]:\n",
    "            tt = torch.Tensor([t])\n",
    "            # Compute the update step using the score network\n",
    "            u = 0.5 * self.diffusion_coeff(tt) * self.s_net(x_t.view(n_samples, self.dim) + self.time_embedding(tt))\n",
    "            x_t = x_t - delta_t * u.view(n_samples, 1, 8, 8)  # Ensure the update matches the image shape\n",
    "\n",
    "            # Debugging: Check shape during each time step\n",
    "            print(f\"x_t shape during step {t}: {x_t.shape}\")\n",
    "\n",
    "        # Apply tanh to constrain the values (for proper image intensity)\n",
    "        x_t = torch.tanh(x_t)\n",
    "\n",
    "        # Final debugging: Check the final shape\n",
    "        print(f\"Final x_t shape: {x_t.shape}\")\n",
    "\n",
    "        return x_t\n",
    "\n",
    "\n",
    "\n",
    "\n"
   ]
  },
  {
   "cell_type": "markdown",
   "metadata": {
    "id": "0BXJ9dN0MinB"
   },
   "source": [
    "## Experiments"
   ]
  },
  {
   "cell_type": "code",
   "execution_count": 444,
   "metadata": {
    "id": "ANQo7LrGLjIN"
   },
   "outputs": [],
   "source": [
    "\n",
    "# input dimension\n",
    "DIM = 64   \n",
    "\n",
    "# Number of time steps\n",
    "n_time_steps = 20\n",
    "\n",
    "sigma = 1.01\n",
    "\n",
    "\n",
    "num_epochs = 1000"
   ]
  },
  {
   "cell_type": "code",
   "execution_count": 445,
   "metadata": {},
   "outputs": [
    {
     "name": "stdout",
     "output_type": "stream",
     "text": [
      "D:  64\n"
     ]
    }
   ],
   "source": [
    "# Initialize model, optimizer, and hyperparameters\n",
    "device = torch.device(\"cuda\" if torch.cuda.is_available() else \"cpu\")\n",
    "model = ScoreBasedGenerativeModel(sigma=sigma, D=DIM, T=n_time_steps).to(device)\n",
    "optimizer = torch.optim.Adam(model.parameters(), lr=1e-3)\n",
    "\n",
    "train_losses = []\n",
    "test_losses = []"
   ]
  },
  {
   "cell_type": "code",
   "execution_count": 446,
   "metadata": {},
   "outputs": [
    {
     "ename": "RuntimeError",
     "evalue": "The size of tensor a (32) must match the size of tensor b (8) at non-singleton dimension 2",
     "output_type": "error",
     "traceback": [
      "\u001b[0;31m---------------------------------------------------------------------------\u001b[0m",
      "\u001b[0;31mRuntimeError\u001b[0m                              Traceback (most recent call last)",
      "Cell \u001b[0;32mIn[446], line 23\u001b[0m\n\u001b[1;32m     19\u001b[0m predicted_score \u001b[38;5;241m=\u001b[39m model\u001b[38;5;241m.\u001b[39ms_net(x_t \u001b[38;5;241m+\u001b[39m t_embedded)  \u001b[38;5;66;03m# sθ(x_t + ˜t)\u001b[39;00m\n\u001b[1;32m     21\u001b[0m \u001b[38;5;66;03m# Step 3: Compute loss\u001b[39;00m\n\u001b[1;32m     22\u001b[0m loss \u001b[38;5;241m=\u001b[39m torch\u001b[38;5;241m.\u001b[39mmean(\n\u001b[0;32m---> 23\u001b[0m     (sigma_t \u001b[38;5;241m*\u001b[39m\u001b[38;5;241m*\u001b[39m \u001b[38;5;241m2\u001b[39m) \u001b[38;5;241m*\u001b[39m torch\u001b[38;5;241m.\u001b[39msum((x_1 \u001b[38;5;241m-\u001b[39m \u001b[43msigma_t\u001b[49m\u001b[43m \u001b[49m\u001b[38;5;241;43m*\u001b[39;49m\u001b[43m \u001b[49m\u001b[43mpredicted_score\u001b[49m) \u001b[38;5;241m*\u001b[39m\u001b[38;5;241m*\u001b[39m \u001b[38;5;241m2\u001b[39m, dim\u001b[38;5;241m=\u001b[39m\u001b[38;5;241m1\u001b[39m)\n\u001b[1;32m     24\u001b[0m )\n\u001b[1;32m     26\u001b[0m \u001b[38;5;66;03m# Step 4: Backpropagation and optimization\u001b[39;00m\n\u001b[1;32m     27\u001b[0m optimizer\u001b[38;5;241m.\u001b[39mzero_grad()\n",
      "\u001b[0;31mRuntimeError\u001b[0m: The size of tensor a (32) must match the size of tensor b (8) at non-singleton dimension 2"
     ]
    }
   ],
   "source": [
    "\n",
    "# Training loop\n",
    "for epoch in range(num_epochs):\n",
    "    model.train()\n",
    "    total_train_loss = 0.0\n",
    "\n",
    "    for batch in training_loader:\n",
    "        # Move batch to device\n",
    "        x_0 = batch.to(device)  # Data samples x0\n",
    "        batch_size = x_0.size(0)\n",
    "        \n",
    "        # Step 1: Draw samples\n",
    "        x_1 = torch.randn(batch_size, DIM, device=device)  # Noise samples x1\n",
    "        t = torch.rand(batch_size, 1, device=device)  # Uniform time samples t\n",
    "        sigma_t = model.sigma_t(t)  # Compute sigma(t)\n",
    "        x_t = x_0 + sigma_t * x_1  # Generate samples xt\n",
    "        t_embedded = model.time_embedding(t)  # Time embedding\n",
    "        \n",
    "        # Step 2: Score network prediction\n",
    "        predicted_score = model.s_net(x_t + t_embedded)  # sθ(x_t + ˜t)\n",
    "        \n",
    "        # Step 3: Compute loss\n",
    "        loss = torch.mean(\n",
    "            (sigma_t ** 2) * torch.sum((x_1 - sigma_t * predicted_score) ** 2, dim=1)\n",
    "        )\n",
    "        \n",
    "        # Step 4: Backpropagation and optimization\n",
    "        optimizer.zero_grad()\n",
    "        loss.backward()\n",
    "        optimizer.step()\n",
    "        \n",
    "        total_train_loss += loss.item()\n",
    "\n",
    "    # Store training loss\n",
    "    train_losses.append(total_train_loss / len(training_loader))\n",
    "    \n",
    "    # Evaluate on test set\n",
    "    model.eval()\n",
    "    total_test_loss = 0.0\n",
    "    with torch.no_grad():\n",
    "        for batch in test_loader:\n",
    "            x_0 = batch.to(device)  # Data samples x0\n",
    "            batch_size = x_0.size(0)\n",
    "            \n",
    "            # Step 1: Draw samples\n",
    "            x_1 = torch.randn(batch_size, DIM, device=device)  # Noise samples x1\n",
    "            t = torch.rand(batch_size, 1, device=device)  # Uniform time samples t\n",
    "            sigma_t = model.sigma_t(t)  # Compute sigma(t)\n",
    "            x_t = x_0 + sigma_t * x_1  # Generate samples xt\n",
    "            t_embedded = model.time_embedding(t)  # Time embedding\n",
    "            \n",
    "            # Step 2: Score network prediction\n",
    "            predicted_score = model.s_net(x_t + t_embedded)  # sθ(x_t + ˜t)\n",
    "            \n",
    "            # Step 3: Compute loss\n",
    "            loss = torch.mean(\n",
    "                (sigma_t ** 2) * torch.sum((x_1 - sigma_t * predicted_score) ** 2, dim=1)\n",
    "            )\n",
    "            \n",
    "            total_test_loss += loss.item()\n",
    "\n",
    "    # Store test loss\n",
    "    test_losses.append(total_test_loss / len(test_loader))\n",
    "\n",
    "    # Log epoch progress\n",
    "    print(f\"Epoch [{epoch + 1}/{num_epochs}], Train Loss: {train_losses[-1]:.4f}, Test Loss: {test_losses[-1]:.4f}\")\n",
    "\n",
    "# Save the trained model\n",
    "torch.save(model.state_dict(), \"score_based_model.pth\")"
   ]
  },
  {
   "cell_type": "code",
   "execution_count": null,
   "metadata": {},
   "outputs": [
    {
     "data": {
      "image/png": "[encoded data removed]",
      "text/plain": [
       "<Figure size 640x480 with 1 Axes>"
      ]
     },
     "metadata": {},
     "output_type": "display_data"
    }
   ],
   "source": [
    "\n",
    "# Plot the losses\n",
    "plt.plot(train_losses, label='Train Loss')\n",
    "plt.plot(test_losses, label='Test Loss')\n",
    "plt.xlabel('Epochs')\n",
    "plt.ylabel('Loss')\n",
    "plt.yscale('log')\n",
    "plt.title('Training and Test Losses Over Time')\n",
    "plt.legend()\n",
    "plt.show()\n"
   ]
  },
  {
   "cell_type": "code",
   "execution_count": null,
   "metadata": {},
   "outputs": [
    {
     "name": "stdout",
     "output_type": "stream",
     "text": [
      "self.dim:  64\n",
      "Sample base output shape: torch.Size([10, 64])\n",
      "Initial x_t shape: torch.Size([10, 64])\n",
      "x_t shape after reshaping to 8x8: torch.Size([10, 1, 8, 8])\n",
      "x_t shape during step 0.9473689794540405: torch.Size([10, 1, 8, 8])\n",
      "x_t shape during step 0.8947378993034363: torch.Size([10, 1, 8, 8])\n",
      "x_t shape during step 0.842106819152832: torch.Size([10, 1, 8, 8])\n",
      "x_t shape during step 0.7894757986068726: torch.Size([10, 1, 8, 8])\n",
      "x_t shape during step 0.7368447780609131: torch.Size([10, 1, 8, 8])\n",
      "x_t shape during step 0.6842136979103088: torch.Size([10, 1, 8, 8])\n",
      "x_t shape during step 0.6315826177597046: torch.Size([10, 1, 8, 8])\n",
      "x_t shape during step 0.5789515972137451: torch.Size([10, 1, 8, 8])\n",
      "x_t shape during step 0.5263205766677856: torch.Size([10, 1, 8, 8])\n",
      "x_t shape during step 0.473689466714859: torch.Size([10, 1, 8, 8])\n",
      "x_t shape during step 0.42105841636657715: torch.Size([10, 1, 8, 8])\n",
      "x_t shape during step 0.3684273660182953: torch.Size([10, 1, 8, 8])\n",
      "x_t shape during step 0.3157963156700134: torch.Size([10, 1, 8, 8])\n",
      "x_t shape during step 0.26316526532173157: torch.Size([10, 1, 8, 8])\n",
      "x_t shape during step 0.2105342000722885: torch.Size([10, 1, 8, 8])\n",
      "x_t shape during step 0.15790314972400665: torch.Size([10, 1, 8, 8])\n",
      "x_t shape during step 0.10527209937572479: torch.Size([10, 1, 8, 8])\n",
      "x_t shape during step 0.05264104902744293: torch.Size([10, 1, 8, 8])\n",
      "x_t shape during step 9.999999747378752e-06: torch.Size([10, 1, 8, 8])\n",
      "Final x_t shape: torch.Size([10, 1, 8, 8])\n"
     ]
    }
   ],
   "source": [
    "#  Number of samples to generate\n",
    "n_samples = 10\n",
    "\n",
    "# Generate samples using the model's sample method\n",
    "generated_samples = model.sample(n_samples)\n",
    "\n",
    "# Since the dataset is transformed to [-1, 1], reverse the transformation for visualization\n",
    "generated_samples = (generated_samples + 1) * 8.5  # Rescale back to [0, 17]\n",
    "generated_samples = generated_samples.cpu().detach().numpy().astype(np.uint8)  # Convert to integer range\n",
    "\n",
    "# Fetch the original samples from the dataset for comparison\n",
    "original_samples = train_data.data[:n_samples]  # Get the first 10 original samples for comparison\n",
    "original_samples = (original_samples / 8.5) - 1  # Transform them back to [-1, 1]\n",
    "\n"
   ]
  },
  {
   "cell_type": "code",
   "execution_count": null,
   "metadata": {},
   "outputs": [],
   "source": []
  },
  {
   "cell_type": "code",
   "execution_count": null,
   "metadata": {},
   "outputs": [
    {
     "name": "stdout",
     "output_type": "stream",
     "text": [
      "Generated samples shape: (10, 1, 8, 8)\n",
      "Generated sample 0 shape: (8, 8)\n",
      "Generated sample 1 shape: (8, 8)\n",
      "Generated sample 2 shape: (8, 8)\n",
      "Generated sample 3 shape: (8, 8)\n",
      "Generated sample 4 shape: (8, 8)\n",
      "Generated sample 5 shape: (8, 8)\n",
      "Generated sample 6 shape: (8, 8)\n",
      "Generated sample 7 shape: (8, 8)\n",
      "Generated sample 8 shape: (8, 8)\n",
      "Generated sample 9 shape: (8, 8)\n"
     ]
    },
    {
     "data": {
      "image/png": "[encoded data removed]",
      "text/plain": [
       "<Figure size 1500x500 with 20 Axes>"
      ]
     },
     "metadata": {},
     "output_type": "display_data"
    }
   ],
   "source": [
    "# Check the shape of generated_samples\n",
    "print(f\"Generated samples shape: {generated_samples.shape}\")\n",
    "\n",
    "fig, axes = plt.subplots(2, n_samples, figsize=(15, 5))\n",
    "\n",
    "# Display original samples\n",
    "for i in range(n_samples):\n",
    "    axes[0, i].imshow(original_samples[i].reshape(8, 8), cmap='gray')\n",
    "    axes[0, i].axis('off')\n",
    "    axes[0, i].set_title(f'Original {i}')\n",
    "\n",
    "# Display generated samples as 64x64\n",
    "for i in range(n_samples):\n",
    "    sample = generated_samples[i].reshape(8,8)\n",
    "    print(f\"Generated sample {i} shape: {sample.shape}\")\n",
    "    axes[1, i].imshow(sample, cmap='gray')  # Display the full 64x64 image\n",
    "    axes[1, i].axis('off')\n",
    "    axes[1, i].set_title(f'Generated {i}')\n",
    "\n",
    "plt.show()\n",
    "\n"
   ]
  }
 ],
 "metadata": {
  "colab": {
   "collapsed_sections": [],
   "name": "vae_priors.ipynb",
   "provenance": []
  },
  "kernelspec": {
   "display_name": "molecular_simulations_env",
   "language": "python",
   "name": "python3"
  },
  "language_info": {
   "codemirror_mode": {
    "name": "ipython",
    "version": 3
   },
   "file_extension": ".py",
   "mimetype": "text/x-python",
   "name": "python",
   "nbconvert_exporter": "python",
   "pygments_lexer": "ipython3",
   "version": "3.12.8"
  }
 },
 "nbformat": 4,
 "nbformat_minor": 4
}
