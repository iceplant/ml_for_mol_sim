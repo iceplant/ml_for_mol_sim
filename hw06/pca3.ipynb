{
 "cells": [
  {
   "cell_type": "code",
   "execution_count": 45,
   "metadata": {},
   "outputs": [],
   "source": [
    "import matplotlib.pyplot as plt\n",
    "import numpy as np\n",
    "from numpy.random import default_rng\n",
    "from sklearn.decomposition import PCA\n",
    "\n",
    "import autograd.numpy as anp\n",
    "from autograd import grad\n",
    "\n",
    "import pickle as pck\n",
    "import math"
   ]
  },
  {
   "cell_type": "code",
   "execution_count": null,
   "metadata": {},
   "outputs": [],
   "source": []
  },
  {
   "cell_type": "code",
   "execution_count": null,
   "metadata": {},
   "outputs": [],
   "source": []
  },
  {
   "cell_type": "code",
   "execution_count": null,
   "metadata": {},
   "outputs": [],
   "source": []
  },
  {
   "cell_type": "code",
   "execution_count": null,
   "metadata": {},
   "outputs": [],
   "source": []
  },
  {
   "cell_type": "code",
   "execution_count": null,
   "metadata": {},
   "outputs": [],
   "source": []
  },
  {
   "cell_type": "code",
   "execution_count": null,
   "metadata": {},
   "outputs": [],
   "source": []
  },
  {
   "cell_type": "code",
   "execution_count": 46,
   "metadata": {},
   "outputs": [],
   "source": [
    "# potential\n",
    "def Vpot(r):\n",
    "    x, y = r\n",
    "    return (x**4 + y**4) / 20480 \\\n",
    "      - 3 *  anp.exp(-0.01 * ((x+5)**2) - 0.2 * ((y+5) ** 2)) \\\n",
    "      - 3 * anp.exp(-0.01 * ((x - 5) ** 2) - 0.2 * ((y - 5) ** 2)) \\\n",
    "      + 5 * anp.exp(-0.2 * ((x + 3 * (y - 3)) ** 2)) / (1 + anp.exp(-1 * x - 3)) \\\n",
    "      + 5 * anp.exp(-0.2 * ((x + 3*(y + 3))) ** 2) / (1 + anp.exp(x - 3)) \\\n",
    "      + 3 * anp.exp(-0.01 * (x ** 2 + y ** 2))\n",
    "\n",
    "def Vxy(x, y):\n",
    "    return Vpot([x, y])\n",
    "\n",
    "partial_derivative_x = grad(Vxy, 0)\n",
    "partial_derivative_y = grad(Vxy, 1)\n",
    "\n",
    "def dVdx(r):\n",
    "    x, y = map(float, r)\n",
    "    return partial_derivative_x(x, y)\n",
    "\n",
    "\n",
    "# dV/dy\n",
    "def dVdy(r):\n",
    "    x, y = map(float, r)\n",
    "    return partial_derivative_y(x, y) \n",
    "# compute kinetic energy\n",
    "\n",
    "def Ekin(v, m=1.0):\n",
    "    vx, vy = v\n",
    "    v_mag_squared = vx ** 2 + vy ** 2\n",
    "    return .5 * m * (v_mag_squared)\n",
    "\n",
    "# check if particle is in A or B\n",
    "def in_A(r):\n",
    "    x, y = r\n",
    "    return x < -4.0 and y < -3.0\n",
    "    \n",
    "def in_B(r):\n",
    "    x, y = r\n",
    "    return x > 4.0 and y > 3.0"
   ]
  },
  {
   "cell_type": "code",
   "execution_count": 47,
   "metadata": {},
   "outputs": [
    {
     "name": "stdout",
     "output_type": "stream",
     "text": [
      "dV/dx: -1.9480771441418816\n",
      "dV/dy: -6.494201378111789\n"
     ]
    }
   ],
   "source": [
    "r = [2.0, 3.0]\n",
    "print(\"dV/dx:\", dVdx(r))\n",
    "print(\"dV/dy:\", dVdy(r))\n",
    "\n"
   ]
  },
  {
   "cell_type": "code",
   "execution_count": 48,
   "metadata": {},
   "outputs": [],
   "source": [
    "from numpy.random import default_rng\n",
    "import numpy as np\n",
    "\n",
    "# MD step\n",
    "rng = default_rng(23)\n",
    "\n",
    "\n",
    "def mdstep(r, v, f, dt, lc):\n",
    "    \"\"\"MD step using Langevin dynamics\n",
    "\n",
    "    Parameters\n",
    "    ----------\n",
    "    r:\n",
    "        positions\n",
    "    v:\n",
    "        velocities\n",
    "    f:\n",
    "        forces\n",
    "    dt:\n",
    "        time step\n",
    "    lc:\n",
    "        coefficients for Langevin dynamics\n",
    "\n",
    "    Return\n",
    "    ---------\n",
    "    r:\n",
    "        updated positions\n",
    "    v:\n",
    "        updated velocities\n",
    "    f:\n",
    "        updated forces\n",
    "\n",
    "    \"\"\"\n",
    "\n",
    "    # mass is set to 1.0 here, does not explicitly appear in the equations\n",
    "\n",
    "    # langevin thermo, 1st half step\n",
    "    v = lc[0] * v + lc[1] * rng.standard_normal(size=2)\n",
    "\n",
    "    # Verlet part of MD step\n",
    "    v = v + 0.5 * f * dt\n",
    "    r = r + dt * v\n",
    "\n",
    "    # compute forces for new position, dVdx and dVdy are the partial derivatives wrt x and y\n",
    "    f = np.array([-dVdx(r), -dVdy(r)])\n",
    "\n",
    "    v = v + 0.5 * f * dt\n",
    "\n",
    "    # langevin thermo, 2nd half step\n",
    "    v = lc[0] * v + lc[1] * rng.standard_normal(size=2)\n",
    "\n",
    "    return r, v, f"
   ]
  },
  {
   "cell_type": "code",
   "execution_count": null,
   "metadata": {},
   "outputs": [
    {
     "name": "stdout",
     "output_type": "stream",
     "text": [
      "Initial beta = 1.500\n"
     ]
    }
   ],
   "source": [
    "# set time step and temperature\n",
    "dt = 0.05\n",
    "beta = 1.5\n",
    "\n",
    "# initialize random number generator\n",
    "rng = default_rng(27)\n",
    "\n",
    "# initialize langevin parameters\n",
    "lgamma = 1.0\n",
    "c1 = np.exp(-lgamma*dt/2.0)\n",
    "c2 = np.sqrt((1.0-(c1*c1))/beta)\n",
    "lc = np.array([c1,c2])\n",
    "\n",
    "# initialize position, velocities, and forces\n",
    "r = np.array([0.0,0.0])\n",
    "v =np.array([np.sqrt(1.0/beta)*rng.standard_normal(),np.sqrt(1.0/beta)*rng.standard_normal()])\n",
    "f = np.array([-dVdx(r), -dVdy(r)])\n",
    "\n",
    "# rescale initial velocities to target temperature \n",
    "# you need to add the function to compute Ekin\n",
    "scale = np.sqrt(1.0/beta/Ekin(v))\n",
    "v = v*scale\n",
    "print(f'Initial beta = {1.0/Ekin(v):.3f}')\n",
    "\n",
    "sum_Ekin = 0.0\n",
    "count = 0\n",
    "positions = []\n",
    "for i in range(1000):\n",
    "    for k in range(100):\n",
    "        r,v,f = mdstep(r,v,f,dt,lc)\n",
    "        count = count + 1\n",
    "        sum_Ekin = sum_Ekin + Ekin(v)\n",
    "    # add function in_A(r) and in_B(r) to determine if system is in A or B\n",
    "    positions.append(r)\n",
    "    print(i)\n",
    "    # print(f'x = {r[0]:.3f}, y = {r[1]:.3f}, average beta = {1.0/(sum_Ekin/count):.3f}, A = {in_A(r)}, B = {in_B(r)}')\n",
    "    \n"
   ]
  },
  {
   "cell_type": "code",
   "execution_count": null,
   "metadata": {},
   "outputs": [],
   "source": []
  },
  {
   "cell_type": "code",
   "execution_count": null,
   "metadata": {},
   "outputs": [],
   "source": []
  },
  {
   "cell_type": "code",
   "execution_count": null,
   "metadata": {},
   "outputs": [],
   "source": []
  },
  {
   "cell_type": "code",
   "execution_count": null,
   "metadata": {},
   "outputs": [
    {
     "data": {
      "image/png": "[encoded data removed]",
      "text/plain": [
       "<Figure size 640x480 with 1 Axes>"
      ]
     },
     "metadata": {},
     "output_type": "display_data"
    }
   ],
   "source": [
    "nx = 100\n",
    "ny = 100\n",
    "x = np.linspace(-15, 15, nx)\n",
    "y = np.linspace(-10, 10, ny)\n",
    "xv, yv = np.meshgrid(x,y)\n",
    "z = [Vpot([x_val, y_val]) for x_val, y_val in zip(xv,yv)]\n",
    "z_grid = np.array(z).reshape(xv.shape)\n",
    "fig = plt.figure() \n",
    "plt.contourf(x,y,z_grid, alpha=.5)\n",
    "\n",
    "positions = np.array(positions)\n",
    "\n",
    "# Extract x and y coordinates\n",
    "x_positions = positions[:, 0]\n",
    "y_positions = positions[:, 1]\n",
    "\n",
    "def decide_color(r):\n",
    "  if in_A(r):\n",
    "    return \"purple\"\n",
    "  return \"green\"\n",
    "\n",
    "colors = [decide_color(pos) for pos in positions]\n",
    "\n",
    "plt.scatter(x_positions, y_positions, color=colors, label='Points', zorder=3, s=.01)\n",
    "plt.legend(loc='upper left')\n",
    "plt.show()"
   ]
  },
  {
   "cell_type": "code",
   "execution_count": null,
   "metadata": {},
   "outputs": [],
   "source": [
    "def pca(X, num_components):\n",
    "    \"\"\" Performs PCA for a given number of components. Returns reduced data and eigenvectors (principal components).\n",
    "\n",
    "    Parameters:\n",
    "    -----------\n",
    "    X : Array to perform PCA on.\n",
    "    num_components : Number of principal components of interest.\n",
    "    \"\"\"\n",
    "    # subtract mean\n",
    "    x = X - np.mean(X, axis=0)\n",
    "\n",
    "    # covariance matrix\n",
    "    cov_mat = np.cov(x, rowvar=False)\n",
    "\n",
    "    # Diagonalize covariance matrix\n",
    "    eigvals, eigvecs = np.linalg.eigh(cov_mat)\n",
    "\n",
    "    # Sort\n",
    "    sorted_ids = np.argsort(eigvals)[::-1]\n",
    "    eigvecs_sorted = eigvecs[:, sorted_ids]\n",
    "    eigvals_sorted = eigvals[sorted_ids]\n",
    "\n",
    "    # Select requested eigenvectors\n",
    "    eigvecs_selected = eigvecs_sorted[:, 0:num_components]\n",
    "    eigvals_selected = eigvals_sorted[0:num_components]\n",
    "\n",
    "\n",
    "    # Project data onto eigenvectors\n",
    "    X_projected = np.dot(eigvecs_selected.transpose(), x.transpose()).transpose()\n",
    "\n",
    "    return X_projected, eigvecs_selected, eigvals_selected"
   ]
  },
  {
   "cell_type": "code",
   "execution_count": null,
   "metadata": {},
   "outputs": [
    {
     "data": {
      "image/png": "[encoded data removed]",
      "text/plain": [
       "<Figure size 640x480 with 1 Axes>"
      ]
     },
     "metadata": {},
     "output_type": "display_data"
    }
   ],
   "source": [
    "nx = 100\n",
    "ny = 100\n",
    "x = np.linspace(-15, 15, nx)\n",
    "y = np.linspace(-10, 10, ny)\n",
    "xv, yv = np.meshgrid(x,y)\n",
    "z = [Vpot([x_val, y_val]) for x_val, y_val in zip(xv,yv)]\n",
    "z_grid = np.array(z).reshape(xv.shape)\n",
    "fig = plt.figure() \n",
    "plt.contourf(x,y,z_grid, alpha=.5)\n",
    "\n",
    "positions = np.array(positions)\n",
    "\n",
    "# Extract x and y coordinates\n",
    "x_positions = positions[:, 0]\n",
    "y_positions = positions[:, 1]\n",
    "\n",
    "def decide_color(r):\n",
    "  if in_A(r):\n",
    "    return \"purple\"\n",
    "  return \"green\"\n",
    "\n",
    "colors = [decide_color(pos) for pos in positions]\n",
    "\n",
    "plt.scatter(x_positions, y_positions, color=colors, label='Points', zorder=3, s=.01)\n",
    "\n",
    "# plt.show()\n",
    "\n",
    "\n",
    "_, eigenvectors, eigenvalues = pca(positions, 2)\n",
    "for i in range(len(eigenvalues)):\n",
    "  eigenvector = eigenvectors[i]\n",
    "  plt.quiver(\n",
    "          0, 0,  # Start point\n",
    "          eigenvector[0], eigenvector[1],  # Direction\n",
    "          scale=eigenvalues[i], scale_units='xy', angles='xy', color=['r', 'b'][i],\n",
    "          label=f\"Eigenvector {i+1}\"\n",
    "      )\n",
    "plt.legend(loc='upper left')\n",
    "plt.show()\n"
   ]
  },
  {
   "cell_type": "code",
   "execution_count": null,
   "metadata": {},
   "outputs": [],
   "source": []
  },
  {
   "cell_type": "code",
   "execution_count": null,
   "metadata": {},
   "outputs": [],
   "source": []
  },
  {
   "cell_type": "code",
   "execution_count": null,
   "metadata": {},
   "outputs": [],
   "source": []
  },
  {
   "cell_type": "code",
   "execution_count": null,
   "metadata": {},
   "outputs": [],
   "source": []
  }
 ],
 "metadata": {
  "kernelspec": {
   "display_name": "molecular_simulations_env",
   "language": "python",
   "name": "python3"
  },
  "language_info": {
   "codemirror_mode": {
    "name": "ipython",
    "version": 3
   },
   "file_extension": ".py",
   "mimetype": "text/x-python",
   "name": "python",
   "nbconvert_exporter": "python",
   "pygments_lexer": "ipython3",
   "version": "3.12.6"
  }
 },
 "nbformat": 4,
 "nbformat_minor": 2
}
