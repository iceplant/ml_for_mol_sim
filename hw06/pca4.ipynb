{
 "cells": [
  {
   "cell_type": "code",
   "execution_count": 2,
   "metadata": {},
   "outputs": [],
   "source": [
    "import matplotlib.pyplot as plt\n",
    "import numpy as np\n",
    "from numpy.random import default_rng\n",
    "from sklearn.decomposition import PCA\n",
    "\n",
    "import autograd.numpy as anp\n",
    "from autograd import grad\n",
    "\n",
    "import pickle as pck\n",
    "import math"
   ]
  },
  {
   "cell_type": "code",
   "execution_count": null,
   "metadata": {},
   "outputs": [],
   "source": [
    "# potential\n",
    "def Vpot(r):\n",
    "    x, y = r\n",
    "    return (x**4 + y**4) / 20480 \\\n",
    "      - 3 *  anp.exp(-0.01 * ((x+5)**2) - 0.2 * ((y+5) ** 2)) \\\n",
    "      - 3 * anp.exp(-0.01 * ((x - 5) ** 2) - 0.2 * ((y - 5) ** 2)) \\\n",
    "      + 5 * anp.exp(-0.2 * ((x + 3 * (y - 3)) ** 2)) / (1 + anp.exp(-1 * x - 3)) \\\n",
    "      + 5 * anp.exp(-0.2 * ((x + 3*(y + 3))) ** 2) / (1 + anp.exp(x - 3)) \\\n",
    "      + 3 * anp.exp(-0.01 * (x ** 2 + y ** 2))\n",
    "\n",
    "def dVdx(r):\n",
    "    x, y = r\n",
    "    term1 = (4 * x**3) / 20480\n",
    "    \n",
    "    term2 = 0.06 * (x + 5) * anp.exp(-0.01 * (x + 5)**2 - 0.2 * (y + 5)**2)\n",
    "    term3 = -0.06 * (x - 5) * anp.exp(-0.01 * (x - 5)**2 - 0.2 * (y - 5)**2)\n",
    "    \n",
    "    term4 = -0.4 * (x + 3 * (y - 3)) * anp.exp(-0.2 * (x + 3 * (y - 3))**2) / (1 + anp.exp(-x - 3))\n",
    "    term5 = 5 * anp.exp(-0.2 * (x + 3 * (y - 3))**2) * (-anp.exp(-x - 3)) / (1 + anp.exp(-x - 3))**2\n",
    "    \n",
    "    term6 = -0.4 * (x + 3 * (y + 3)) * anp.exp(-0.2 * (x + 3 * (y + 3))**2) / (1 + anp.exp(x - 3))\n",
    "    term7 = 5 * anp.exp(-0.2 * (x + 3 * (y + 3))**2) * anp.exp(x - 3) / (1 + anp.exp(x - 3))**2\n",
    "    \n",
    "    term8 = -0.06 * x * anp.exp(-0.01 * (x**2 + y**2))\n",
    "\n",
    "    # Sum of all terms\n",
    "    return term1 + term2 + term3 + term4 + term5 + term6 + term7 + term8\n",
    "\n",
    "\n",
    "def dVdy(r):\n",
    "    x, y = r\n",
    "    term1 = (4 * y**3) / 20480\n",
    "    \n",
    "    term2 = 1.2 * (y + 5) * anp.exp(-0.01 * (x + 5)**2 - 0.2 * (y + 5)**2)\n",
    "    term3 = -1.2 * (y - 5) * anp.exp(-0.01 * (x - 5)**2 - 0.2 * (y - 5)**2)\n",
    "    \n",
    "    term4 = -1.2 * (x + 3 * (y - 3)) * anp.exp(-0.2 * (x + 3 * (y - 3))**2) / (1 + anp.exp(-x - 3))\n",
    "    term5 = 5 * anp.exp(-0.2 * (x + 3 * (y - 3))**2) * (-3) * anp.exp(-x - 3) / (1 + anp.exp(-x - 3))**2\n",
    "    \n",
    "    term6 = -1.2 * (x + 3 * (y + 3)) * anp.exp(-0.2 * (x + 3 * (y + 3))**2) / (1 + anp.exp(x - 3))\n",
    "    term7 = 5 * anp.exp(-0.2 * (x + 3 * (y + 3))**2) * 3 * anp.exp(x - 3) / (1 + anp.exp(x - 3))**2\n",
    "    \n",
    "    term8 = -0.06 * y * anp.exp(-0.01 * (x**2 + y**2))\n",
    "\n",
    "    # Sum of all terms\n",
    "    return term1 + term2 + term3 + term4 + term5 + term6 + term7 + term8\n",
    "\n",
    "def Ekin(v, m=1.0):\n",
    "    vx, vy = v\n",
    "    v_mag_squared = vx ** 2 + vy ** 2\n",
    "    return .5 * m * (v_mag_squared)\n",
    "\n",
    "# check if particle is in A or B\n",
    "def in_A(r):\n",
    "    x, y = r\n",
    "    return x < -4.0 and y < -3.0\n",
    "    \n",
    "def in_B(r):\n",
    "    x, y = r\n",
    "    return x > 4.0 and y > 3.0"
   ]
  },
  {
   "cell_type": "code",
   "execution_count": 4,
   "metadata": {},
   "outputs": [
    {
     "ename": "TypeError",
     "evalue": "dVdx() missing 1 required positional argument: 'y'",
     "output_type": "error",
     "traceback": [
      "\u001b[0;31m---------------------------------------------------------------------------\u001b[0m",
      "\u001b[0;31mTypeError\u001b[0m                                 Traceback (most recent call last)",
      "Cell \u001b[0;32mIn[4], line 2\u001b[0m\n\u001b[1;32m      1\u001b[0m r \u001b[38;5;241m=\u001b[39m [\u001b[38;5;241m2.0\u001b[39m, \u001b[38;5;241m3.0\u001b[39m]\n\u001b[0;32m----> 2\u001b[0m \u001b[38;5;28mprint\u001b[39m(\u001b[38;5;124m\"\u001b[39m\u001b[38;5;124mdV/dx:\u001b[39m\u001b[38;5;124m\"\u001b[39m, \u001b[43mdVdx\u001b[49m\u001b[43m(\u001b[49m\u001b[43mr\u001b[49m\u001b[43m)\u001b[49m)\n\u001b[1;32m      3\u001b[0m \u001b[38;5;28mprint\u001b[39m(\u001b[38;5;124m\"\u001b[39m\u001b[38;5;124mdV/dy:\u001b[39m\u001b[38;5;124m\"\u001b[39m, dVdy(r))\n",
      "\u001b[0;31mTypeError\u001b[0m: dVdx() missing 1 required positional argument: 'y'"
     ]
    }
   ],
   "source": [
    "r = [2.0, 3.0]\n",
    "print(\"dV/dx:\", dVdx(r))\n",
    "print(\"dV/dy:\", dVdy(r))\n"
   ]
  },
  {
   "cell_type": "code",
   "execution_count": null,
   "metadata": {},
   "outputs": [],
   "source": []
  }
 ],
 "metadata": {
  "kernelspec": {
   "display_name": "molecular_simulations_env",
   "language": "python",
   "name": "python3"
  },
  "language_info": {
   "codemirror_mode": {
    "name": "ipython",
    "version": 3
   },
   "file_extension": ".py",
   "mimetype": "text/x-python",
   "name": "python",
   "nbconvert_exporter": "python",
   "pygments_lexer": "ipython3",
   "version": "3.12.6"
  }
 },
 "nbformat": 4,
 "nbformat_minor": 2
}
